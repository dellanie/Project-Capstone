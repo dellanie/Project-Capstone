{
  "cells": [
    {
      "cell_type": "markdown",
      "metadata": {
        "id": "view-in-github",
        "colab_type": "text"
      },
      "source": [
        "<a href=\"https://colab.research.google.com/github/dellanie/Project-Capstone/blob/main/Project_capstone.ipynb\" target=\"_parent\"><img src=\"https://colab.research.google.com/assets/colab-badge.svg\" alt=\"Open In Colab\"/></a>"
      ]
    },
    {
      "cell_type": "markdown",
      "metadata": {
        "id": "1ZlrcmEtCOCo"
      },
      "source": [
        "Setting up imports and preprocessing\n",
        "\n",
        "\n"
      ]
    },
    {
      "cell_type": "markdown",
      "metadata": {
        "id": "uw3fmLYvo6v_"
      },
      "source": [
        "**PART 2**"
      ]
    },
    {
      "cell_type": "code",
      "execution_count": null,
      "metadata": {
        "colab": {
          "base_uri": "https://localhost:8080/"
        },
        "id": "aZ70up12qXch",
        "outputId": "ffc47ef6-63c0-4855-ed29-c58a4c8ccf72"
      },
      "outputs": [
        {
          "output_type": "stream",
          "name": "stdout",
          "text": [
            "Looking in indexes: https://pypi.org/simple, https://us-python.pkg.dev/colab-wheels/public/simple/\n",
            "Collecting pyLDAvis\n",
            "  Downloading pyLDAvis-3.4.0-py3-none-any.whl (2.6 MB)\n",
            "\u001b[2K     \u001b[90m━━━━━━━━━━━━━━━━━━━━━━━━━━━━━━━━━━━━━━━━\u001b[0m \u001b[32m2.6/2.6 MB\u001b[0m \u001b[31m37.5 MB/s\u001b[0m eta \u001b[36m0:00:00\u001b[0m\n",
            "\u001b[?25hRequirement already satisfied: numexpr in /usr/local/lib/python3.9/dist-packages (from pyLDAvis) (2.8.4)\n",
            "Requirement already satisfied: joblib>=1.2.0 in /usr/local/lib/python3.9/dist-packages (from pyLDAvis) (1.2.0)\n",
            "Collecting funcy\n",
            "  Downloading funcy-2.0-py2.py3-none-any.whl (30 kB)\n",
            "Requirement already satisfied: scipy in /usr/local/lib/python3.9/dist-packages (from pyLDAvis) (1.10.1)\n",
            "Requirement already satisfied: scikit-learn>=1.0.0 in /usr/local/lib/python3.9/dist-packages (from pyLDAvis) (1.2.2)\n",
            "Requirement already satisfied: setuptools in /usr/local/lib/python3.9/dist-packages (from pyLDAvis) (67.6.1)\n",
            "Requirement already satisfied: numpy>=1.22.0 in /usr/local/lib/python3.9/dist-packages (from pyLDAvis) (1.22.4)\n",
            "Requirement already satisfied: gensim in /usr/local/lib/python3.9/dist-packages (from pyLDAvis) (4.3.1)\n",
            "Requirement already satisfied: pandas>=1.3.4 in /usr/local/lib/python3.9/dist-packages (from pyLDAvis) (1.5.3)\n",
            "Requirement already satisfied: jinja2 in /usr/local/lib/python3.9/dist-packages (from pyLDAvis) (3.1.2)\n",
            "Requirement already satisfied: pytz>=2020.1 in /usr/local/lib/python3.9/dist-packages (from pandas>=1.3.4->pyLDAvis) (2022.7.1)\n",
            "Requirement already satisfied: python-dateutil>=2.8.1 in /usr/local/lib/python3.9/dist-packages (from pandas>=1.3.4->pyLDAvis) (2.8.2)\n",
            "Requirement already satisfied: threadpoolctl>=2.0.0 in /usr/local/lib/python3.9/dist-packages (from scikit-learn>=1.0.0->pyLDAvis) (3.1.0)\n",
            "Requirement already satisfied: smart-open>=1.8.1 in /usr/local/lib/python3.9/dist-packages (from gensim->pyLDAvis) (6.3.0)\n",
            "Requirement already satisfied: MarkupSafe>=2.0 in /usr/local/lib/python3.9/dist-packages (from jinja2->pyLDAvis) (2.1.2)\n",
            "Requirement already satisfied: six>=1.5 in /usr/local/lib/python3.9/dist-packages (from python-dateutil>=2.8.1->pandas>=1.3.4->pyLDAvis) (1.16.0)\n",
            "Installing collected packages: funcy, pyLDAvis\n",
            "Successfully installed funcy-2.0 pyLDAvis-3.4.0\n"
          ]
        }
      ],
      "source": [
        "# Import the following libraries\n",
        "import pandas as pd\n",
        "import numpy as np\n",
        "\n",
        "# NLTK libraries\n",
        "from nltk.corpus import stopwords\n",
        "from nltk import word_tokenize\n",
        "from nltk.stem import WordNetLemmatizer\n",
        "import nltk\n",
        "\n",
        "# Visualization libraries\n",
        "import plotly.graph_objects as go\n",
        "import seaborn as sns\n",
        "import matplotlib.pyplot as plt\n",
        "from wordcloud import WordCloud\n",
        "from PIL import Image # for world cloud image\n",
        "\n",
        "# Spacy for preprocessing\n",
        "import spacy\n",
        "from spacy.lang.en.stop_words import STOP_WORDS\n",
        "nlp = spacy.load('en_core_web_sm')\n",
        "\n",
        "\n",
        "# To change date to datetime\n",
        "from datetime import datetime\n",
        "import re\n",
        "\n",
        "from collections import Counter\n",
        "import string\n",
        "import scipy.sparse\n",
        "\n",
        "# Gensim libraries\n",
        "from gensim import corpora\n",
        "from gensim.models.ldamulticore import LdaMulticore\n",
        "!pip install pyLDAvis\n",
        "import pyLDAvis\n",
        "import pyLDAvis.gensim_models\n",
        "#import pyLDAvis.gensim\n",
        "from gensim.models import CoherenceModel\n",
        "from gensim import matutils\n",
        "\n",
        "# Avoid warnings\n",
        "import warnings\n",
        "warnings.filterwarnings(\"ignore\")"
      ]
    },
    {
      "cell_type": "code",
      "source": [],
      "metadata": {
        "id": "FX1P1jFuvYIN"
      },
      "execution_count": null,
      "outputs": []
    },
    {
      "cell_type": "code",
      "execution_count": null,
      "metadata": {
        "colab": {
          "base_uri": "https://localhost:8080/"
        },
        "id": "zLG7IFzrIbH6",
        "outputId": "71bae0d7-e750-4e99-f798-699bb7b6bb4e"
      },
      "outputs": [
        {
          "output_type": "stream",
          "name": "stderr",
          "text": [
            "[nltk_data] Downloading package stopwords to /root/nltk_data...\n",
            "[nltk_data]   Unzipping corpora/stopwords.zip.\n"
          ]
        },
        {
          "output_type": "execute_result",
          "data": {
            "text/plain": [
              "True"
            ]
          },
          "metadata": {},
          "execution_count": 2
        }
      ],
      "source": [
        "import nltk\n",
        "nltk.download('stopwords')"
      ]
    },
    {
      "cell_type": "code",
      "execution_count": null,
      "metadata": {
        "colab": {
          "base_uri": "https://localhost:8080/"
        },
        "id": "gb_Tl2VgNxFP",
        "outputId": "3d9b36be-bdfa-4113-dd84-5f8f4d7858f5"
      },
      "outputs": [
        {
          "output_type": "stream",
          "name": "stdout",
          "text": [
            "2023-04-14 01:34:14.596207: W tensorflow/compiler/tf2tensorrt/utils/py_utils.cc:38] TF-TRT Warning: Could not find TensorRT\n",
            "Looking in indexes: https://pypi.org/simple, https://us-python.pkg.dev/colab-wheels/public/simple/\n",
            "Collecting en-core-web-md==3.5.0\n",
            "  Downloading https://github.com/explosion/spacy-models/releases/download/en_core_web_md-3.5.0/en_core_web_md-3.5.0-py3-none-any.whl (42.8 MB)\n",
            "\u001b[2K     \u001b[90m━━━━━━━━━━━━━━━━━━━━━━━━━━━━━━━━━━━━━━━━\u001b[0m \u001b[32m42.8/42.8 MB\u001b[0m \u001b[31m13.6 MB/s\u001b[0m eta \u001b[36m0:00:00\u001b[0m\n",
            "\u001b[?25hRequirement already satisfied: spacy<3.6.0,>=3.5.0 in /usr/local/lib/python3.9/dist-packages (from en-core-web-md==3.5.0) (3.5.1)\n",
            "Requirement already satisfied: smart-open<7.0.0,>=5.2.1 in /usr/local/lib/python3.9/dist-packages (from spacy<3.6.0,>=3.5.0->en-core-web-md==3.5.0) (6.3.0)\n",
            "Requirement already satisfied: spacy-loggers<2.0.0,>=1.0.0 in /usr/local/lib/python3.9/dist-packages (from spacy<3.6.0,>=3.5.0->en-core-web-md==3.5.0) (1.0.4)\n",
            "Requirement already satisfied: langcodes<4.0.0,>=3.2.0 in /usr/local/lib/python3.9/dist-packages (from spacy<3.6.0,>=3.5.0->en-core-web-md==3.5.0) (3.3.0)\n",
            "Requirement already satisfied: jinja2 in /usr/local/lib/python3.9/dist-packages (from spacy<3.6.0,>=3.5.0->en-core-web-md==3.5.0) (3.1.2)\n",
            "Requirement already satisfied: srsly<3.0.0,>=2.4.3 in /usr/local/lib/python3.9/dist-packages (from spacy<3.6.0,>=3.5.0->en-core-web-md==3.5.0) (2.4.6)\n",
            "Requirement already satisfied: wasabi<1.2.0,>=0.9.1 in /usr/local/lib/python3.9/dist-packages (from spacy<3.6.0,>=3.5.0->en-core-web-md==3.5.0) (1.1.1)\n",
            "Requirement already satisfied: setuptools in /usr/local/lib/python3.9/dist-packages (from spacy<3.6.0,>=3.5.0->en-core-web-md==3.5.0) (67.6.1)\n",
            "Requirement already satisfied: tqdm<5.0.0,>=4.38.0 in /usr/local/lib/python3.9/dist-packages (from spacy<3.6.0,>=3.5.0->en-core-web-md==3.5.0) (4.65.0)\n",
            "Requirement already satisfied: murmurhash<1.1.0,>=0.28.0 in /usr/local/lib/python3.9/dist-packages (from spacy<3.6.0,>=3.5.0->en-core-web-md==3.5.0) (1.0.9)\n",
            "Requirement already satisfied: requests<3.0.0,>=2.13.0 in /usr/local/lib/python3.9/dist-packages (from spacy<3.6.0,>=3.5.0->en-core-web-md==3.5.0) (2.27.1)\n",
            "Requirement already satisfied: typer<0.8.0,>=0.3.0 in /usr/local/lib/python3.9/dist-packages (from spacy<3.6.0,>=3.5.0->en-core-web-md==3.5.0) (0.7.0)\n",
            "Requirement already satisfied: cymem<2.1.0,>=2.0.2 in /usr/local/lib/python3.9/dist-packages (from spacy<3.6.0,>=3.5.0->en-core-web-md==3.5.0) (2.0.7)\n",
            "Requirement already satisfied: preshed<3.1.0,>=3.0.2 in /usr/local/lib/python3.9/dist-packages (from spacy<3.6.0,>=3.5.0->en-core-web-md==3.5.0) (3.0.8)\n",
            "Requirement already satisfied: thinc<8.2.0,>=8.1.8 in /usr/local/lib/python3.9/dist-packages (from spacy<3.6.0,>=3.5.0->en-core-web-md==3.5.0) (8.1.9)\n",
            "Requirement already satisfied: pydantic!=1.8,!=1.8.1,<1.11.0,>=1.7.4 in /usr/local/lib/python3.9/dist-packages (from spacy<3.6.0,>=3.5.0->en-core-web-md==3.5.0) (1.10.7)\n",
            "Requirement already satisfied: numpy>=1.15.0 in /usr/local/lib/python3.9/dist-packages (from spacy<3.6.0,>=3.5.0->en-core-web-md==3.5.0) (1.22.4)\n",
            "Requirement already satisfied: packaging>=20.0 in /usr/local/lib/python3.9/dist-packages (from spacy<3.6.0,>=3.5.0->en-core-web-md==3.5.0) (23.0)\n",
            "Requirement already satisfied: pathy>=0.10.0 in /usr/local/lib/python3.9/dist-packages (from spacy<3.6.0,>=3.5.0->en-core-web-md==3.5.0) (0.10.1)\n",
            "Requirement already satisfied: spacy-legacy<3.1.0,>=3.0.11 in /usr/local/lib/python3.9/dist-packages (from spacy<3.6.0,>=3.5.0->en-core-web-md==3.5.0) (3.0.12)\n",
            "Requirement already satisfied: catalogue<2.1.0,>=2.0.6 in /usr/local/lib/python3.9/dist-packages (from spacy<3.6.0,>=3.5.0->en-core-web-md==3.5.0) (2.0.8)\n",
            "Requirement already satisfied: typing-extensions>=4.2.0 in /usr/local/lib/python3.9/dist-packages (from pydantic!=1.8,!=1.8.1,<1.11.0,>=1.7.4->spacy<3.6.0,>=3.5.0->en-core-web-md==3.5.0) (4.5.0)\n",
            "Requirement already satisfied: certifi>=2017.4.17 in /usr/local/lib/python3.9/dist-packages (from requests<3.0.0,>=2.13.0->spacy<3.6.0,>=3.5.0->en-core-web-md==3.5.0) (2022.12.7)\n",
            "Requirement already satisfied: urllib3<1.27,>=1.21.1 in /usr/local/lib/python3.9/dist-packages (from requests<3.0.0,>=2.13.0->spacy<3.6.0,>=3.5.0->en-core-web-md==3.5.0) (1.26.15)\n",
            "Requirement already satisfied: charset-normalizer~=2.0.0 in /usr/local/lib/python3.9/dist-packages (from requests<3.0.0,>=2.13.0->spacy<3.6.0,>=3.5.0->en-core-web-md==3.5.0) (2.0.12)\n",
            "Requirement already satisfied: idna<4,>=2.5 in /usr/local/lib/python3.9/dist-packages (from requests<3.0.0,>=2.13.0->spacy<3.6.0,>=3.5.0->en-core-web-md==3.5.0) (3.4)\n",
            "Requirement already satisfied: confection<1.0.0,>=0.0.1 in /usr/local/lib/python3.9/dist-packages (from thinc<8.2.0,>=8.1.8->spacy<3.6.0,>=3.5.0->en-core-web-md==3.5.0) (0.0.4)\n",
            "Requirement already satisfied: blis<0.8.0,>=0.7.8 in /usr/local/lib/python3.9/dist-packages (from thinc<8.2.0,>=8.1.8->spacy<3.6.0,>=3.5.0->en-core-web-md==3.5.0) (0.7.9)\n",
            "Requirement already satisfied: click<9.0.0,>=7.1.1 in /usr/local/lib/python3.9/dist-packages (from typer<0.8.0,>=0.3.0->spacy<3.6.0,>=3.5.0->en-core-web-md==3.5.0) (8.1.3)\n",
            "Requirement already satisfied: MarkupSafe>=2.0 in /usr/local/lib/python3.9/dist-packages (from jinja2->spacy<3.6.0,>=3.5.0->en-core-web-md==3.5.0) (2.1.2)\n",
            "Installing collected packages: en-core-web-md\n",
            "Successfully installed en-core-web-md-3.5.0\n",
            "\u001b[38;5;2m✔ Download and installation successful\u001b[0m\n",
            "You can now load the package via spacy.load('en_core_web_md')\n"
          ]
        }
      ],
      "source": [
        "!python -m spacy download en_core_web_md\n",
        "\n",
        "nlp = spacy.load('en_core_web_md', disable=['parser', 'ner'])\n",
        "\n",
        "def lemmatization(texts,allowed_postags=['NOUN', 'ADJ']):\n",
        "       output = []\n",
        "       for sent in texts:\n",
        "             doc = nlp(sent)\n",
        "             output.append([token.lemma_ for token in doc if token.pos_ in allowed_postags ])\n",
        "       return output"
      ]
    },
    {
      "cell_type": "code",
      "execution_count": null,
      "metadata": {
        "colab": {
          "base_uri": "https://localhost:8080/"
        },
        "id": "ebF7DSIaPMac",
        "outputId": "a0960478-9223-4d0f-ad65-20bbeaad6815"
      },
      "outputs": [
        {
          "output_type": "stream",
          "name": "stdout",
          "text": [
            "Looking in indexes: https://pypi.org/simple, https://us-python.pkg.dev/colab-wheels/public/simple/\n",
            "Requirement already satisfied: gensim in /usr/local/lib/python3.9/dist-packages (4.3.1)\n",
            "Requirement already satisfied: scipy>=1.7.0 in /usr/local/lib/python3.9/dist-packages (from gensim) (1.10.1)\n",
            "Requirement already satisfied: smart-open>=1.8.1 in /usr/local/lib/python3.9/dist-packages (from gensim) (6.3.0)\n",
            "Requirement already satisfied: numpy>=1.18.5 in /usr/local/lib/python3.9/dist-packages (from gensim) (1.22.4)\n"
          ]
        }
      ],
      "source": [
        "!pip install --upgrade gensim\n",
        "from gensim import corpora, models, similarities, downloader\n",
        "# Creating the object for LDA model using gensim library\n"
      ]
    },
    {
      "cell_type": "code",
      "execution_count": null,
      "metadata": {
        "id": "ymx5AYLMQdyC"
      },
      "outputs": [],
      "source": [
        "from pyLDAvis import gensim\n",
        "LDA =models.ldamodel.LdaModel\n",
        "\n",
        "# Build LDA model\n",
        "# lda_model = LDA(corpus=doc_term_matrix, id2word=dictionary, num_topics=10, random_state=100,\n",
        "#                 chunksize=1000, passes=50,iterations=100)"
      ]
    },
    {
      "cell_type": "code",
      "execution_count": null,
      "metadata": {
        "id": "b-tMNW-4sTgV"
      },
      "outputs": [],
      "source": [
        "import pyLDAvis.gensim_models\n",
        "def compute_coherence_values(dictionary, corpus, texts, limit, start=2, step=3):\n",
        "    \"\"\"\n",
        "    Compute c_v coherence for various number of topics\n",
        "\n",
        "    Parameters:\n",
        "    ----------\n",
        "    dictionary : Gensim dictionary\n",
        "    corpus : Gensim corpus\n",
        "    texts : List of input texts\n",
        "    limit : Max num of topics\n",
        "\n",
        "    Returns:\n",
        "    -------\n",
        "    model_list : List of LDA topic models\n",
        "    coherence_values : Coherence values corresponding to the LDA model with respective number of topics\n",
        "    \"\"\"\n",
        "    coherence_values = []\n",
        "    model_list = []\n",
        "    for num_topics in range(start, limit, step):\n",
        "        model = models.ldamodel.LdaModel(corpus=corpus, num_topics=num_topics, id2word=dictionary)\n",
        "        model_list.append(model)\n",
        "        coherencemodel = CoherenceModel(model=model, texts=texts, dictionary=dictionary, coherence='c_v')\n",
        "        coherence_values.append(coherencemodel.get_coherence())\n",
        "\n",
        "    return model_list, coherence_values"
      ]
    },
    {
      "cell_type": "markdown",
      "metadata": {
        "id": "EJ_nfkWzxCSB"
      },
      "source": [
        "*Section* 2\n"
      ]
    },
    {
      "cell_type": "code",
      "execution_count": null,
      "metadata": {
        "id": "h2Kf-j0YB9Mu"
      },
      "outputs": [],
      "source": [
        "import pandas as pd"
      ]
    },
    {
      "cell_type": "code",
      "execution_count": null,
      "metadata": {
        "id": "87SHe7vfxAnr"
      },
      "outputs": [],
      "source": [
        "df = pd.read_excel('Clusters.xlsx')"
      ]
    },
    {
      "cell_type": "code",
      "execution_count": null,
      "metadata": {
        "colab": {
          "base_uri": "https://localhost:8080/"
        },
        "id": "LogoRtMlymdH",
        "outputId": "5c7bea61-c8e7-444b-b2ca-af38e955bb22"
      },
      "outputs": [
        {
          "output_type": "execute_result",
          "data": {
            "text/plain": [
              "1"
            ]
          },
          "metadata": {},
          "execution_count": 9
        }
      ],
      "source": [
        "len(df['Cluster 1'])"
      ]
    },
    {
      "cell_type": "code",
      "execution_count": null,
      "metadata": {
        "id": "huh4_bTlym2c"
      },
      "outputs": [],
      "source": [
        "df['Cluster 1'] = df['Cluster 1'].replace(',',' ')"
      ]
    },
    {
      "cell_type": "code",
      "execution_count": null,
      "metadata": {
        "colab": {
          "base_uri": "https://localhost:8080/"
        },
        "id": "4CObAgP0y5S3",
        "outputId": "927d82fd-cbb1-4510-9cd1-ec2d8ab8511e"
      },
      "outputs": [
        {
          "output_type": "execute_result",
          "data": {
            "text/plain": [
              "dtype('O')"
            ]
          },
          "metadata": {},
          "execution_count": 11
        }
      ],
      "source": [
        "df['Cluster 1'].dtype"
      ]
    },
    {
      "cell_type": "code",
      "execution_count": null,
      "metadata": {
        "id": "L8iWPDRly5WZ"
      },
      "outputs": [],
      "source": [
        "df['Cluster 1'] = df['Cluster 1'].astype(str)"
      ]
    },
    {
      "cell_type": "code",
      "source": [
        "type(df['Cluster 1'])"
      ],
      "metadata": {
        "colab": {
          "base_uri": "https://localhost:8080/"
        },
        "id": "ynW1qRu8Zusd",
        "outputId": "121fe554-6354-4507-f83d-05a677f104bb"
      },
      "execution_count": null,
      "outputs": [
        {
          "output_type": "execute_result",
          "data": {
            "text/plain": [
              "pandas.core.series.Series"
            ]
          },
          "metadata": {},
          "execution_count": 31
        }
      ]
    },
    {
      "cell_type": "code",
      "execution_count": null,
      "metadata": {
        "colab": {
          "base_uri": "https://localhost:8080/"
        },
        "id": "aXIIAsB3y5dR",
        "outputId": "101924d7-8e14-41f2-bbde-a0b4b6da67ec"
      },
      "outputs": [
        {
          "output_type": "execute_result",
          "data": {
            "text/plain": [
              "1"
            ]
          },
          "metadata": {},
          "execution_count": 13
        }
      ],
      "source": [
        "len(df['Cluster 1'])"
      ]
    },
    {
      "cell_type": "code",
      "execution_count": null,
      "metadata": {
        "colab": {
          "base_uri": "https://localhost:8080/"
        },
        "id": "hC52hmm-y5hG",
        "outputId": "b9024bc8-2865-4d4a-a2a5-f9dda1360148"
      },
      "outputs": [
        {
          "output_type": "stream",
          "name": "stdout",
          "text": [
            "understanding,stakeholders,people,experiences,feedback,understand,take,performative,ensure,marginalized,important,real,may,biases,policies,data,policy,help,use,work\n",
            "['understanding', 'stakeholder', 'people', 'experience', 'feedback', 'performative', 'ensure', 'important', 'real', 'bias', 'policy', 'datum', 'policy', 'help', 'use', 'work']\n"
          ]
        }
      ],
      "source": [
        "text_list=df['Cluster 1'].tolist()\n",
        "print(text_list[0])\n",
        "tokenized_reviews = lemmatization(text_list)\n",
        "print(tokenized_reviews[0])"
      ]
    },
    {
      "cell_type": "code",
      "source": [
        "dictionary = corpora.Dictionary(tokenized_reviews)\n",
        "doc_term_matrix = [dictionary.doc2bow(rev) for rev in tokenized_reviews]"
      ],
      "metadata": {
        "id": "j2up8ZRZOKAg"
      },
      "execution_count": null,
      "outputs": []
    },
    {
      "cell_type": "code",
      "execution_count": null,
      "metadata": {
        "colab": {
          "base_uri": "https://localhost:8080/"
        },
        "id": "KA04fUlyy5kr",
        "outputId": "f5aa73b9-0a57-4eac-eeaa-601513d83997"
      },
      "outputs": [
        {
          "output_type": "stream",
          "name": "stdout",
          "text": [
            "\n",
            "Perplexity:  -3.3369912862300875\n",
            "\n",
            "Coherence Score:  1.0\n"
          ]
        }
      ],
      "source": [
        "# Build LDA model\n",
        "lda_model = LDA(corpus=doc_term_matrix, id2word=dictionary, num_topics=5, random_state=100,\n",
        "                chunksize=1000, passes=50,iterations=100)\n",
        "print('\\nPerplexity: ', lda_model.log_perplexity(doc_term_matrix,total_docs=10000))  # a measure of how good the model is. lower the better.\n",
        "\n",
        "# Compute Coherence Score\n",
        "from gensim.models.coherencemodel import CoherenceModel\n",
        "coherence_model_lda = CoherenceModel(model=lda_model, texts=tokenized_reviews, dictionary=dictionary , coherence='c_v')\n",
        "coherence_lda = coherence_model_lda.get_coherence()\n",
        "print('\\nCoherence Score: ', coherence_lda)"
      ]
    },
    {
      "cell_type": "code",
      "execution_count": null,
      "metadata": {
        "colab": {
          "base_uri": "https://localhost:8080/"
        },
        "id": "nBZrneyUy5og",
        "outputId": "71107e06-f114-413e-dccb-96ed9c6dcb09"
      },
      "outputs": [
        {
          "output_type": "stream",
          "name": "stderr",
          "text": [
            "WARNING:gensim.models.ldamodel:too few updates, training might not converge; consider increasing the number of passes or iterations to improve accuracy\n",
            "WARNING:gensim.models.ldamodel:too few updates, training might not converge; consider increasing the number of passes or iterations to improve accuracy\n",
            "WARNING:gensim.models.ldamodel:too few updates, training might not converge; consider increasing the number of passes or iterations to improve accuracy\n",
            "WARNING:gensim.models.ldamodel:too few updates, training might not converge; consider increasing the number of passes or iterations to improve accuracy\n",
            "WARNING:gensim.models.ldamodel:too few updates, training might not converge; consider increasing the number of passes or iterations to improve accuracy\n",
            "WARNING:gensim.models.ldamodel:too few updates, training might not converge; consider increasing the number of passes or iterations to improve accuracy\n",
            "WARNING:gensim.models.ldamodel:too few updates, training might not converge; consider increasing the number of passes or iterations to improve accuracy\n",
            "WARNING:gensim.models.ldamodel:too few updates, training might not converge; consider increasing the number of passes or iterations to improve accuracy\n",
            "WARNING:gensim.models.ldamodel:too few updates, training might not converge; consider increasing the number of passes or iterations to improve accuracy\n",
            "WARNING:gensim.models.ldamodel:too few updates, training might not converge; consider increasing the number of passes or iterations to improve accuracy\n",
            "WARNING:gensim.models.ldamodel:too few updates, training might not converge; consider increasing the number of passes or iterations to improve accuracy\n",
            "WARNING:gensim.models.ldamodel:too few updates, training might not converge; consider increasing the number of passes or iterations to improve accuracy\n",
            "WARNING:gensim.models.ldamodel:too few updates, training might not converge; consider increasing the number of passes or iterations to improve accuracy\n",
            "WARNING:gensim.models.ldamodel:too few updates, training might not converge; consider increasing the number of passes or iterations to improve accuracy\n",
            "WARNING:gensim.models.ldamodel:too few updates, training might not converge; consider increasing the number of passes or iterations to improve accuracy\n",
            "WARNING:gensim.models.ldamodel:too few updates, training might not converge; consider increasing the number of passes or iterations to improve accuracy\n",
            "WARNING:gensim.models.ldamodel:too few updates, training might not converge; consider increasing the number of passes or iterations to improve accuracy\n",
            "WARNING:gensim.models.ldamodel:too few updates, training might not converge; consider increasing the number of passes or iterations to improve accuracy\n",
            "WARNING:gensim.models.ldamodel:too few updates, training might not converge; consider increasing the number of passes or iterations to improve accuracy\n",
            "WARNING:gensim.models.ldamodel:too few updates, training might not converge; consider increasing the number of passes or iterations to improve accuracy\n",
            "WARNING:gensim.models.ldamodel:too few updates, training might not converge; consider increasing the number of passes or iterations to improve accuracy\n",
            "WARNING:gensim.models.ldamodel:too few updates, training might not converge; consider increasing the number of passes or iterations to improve accuracy\n",
            "WARNING:gensim.models.ldamodel:too few updates, training might not converge; consider increasing the number of passes or iterations to improve accuracy\n",
            "WARNING:gensim.models.ldamodel:too few updates, training might not converge; consider increasing the number of passes or iterations to improve accuracy\n",
            "WARNING:gensim.models.ldamodel:too few updates, training might not converge; consider increasing the number of passes or iterations to improve accuracy\n",
            "WARNING:gensim.models.ldamodel:too few updates, training might not converge; consider increasing the number of passes or iterations to improve accuracy\n",
            "WARNING:gensim.models.ldamodel:too few updates, training might not converge; consider increasing the number of passes or iterations to improve accuracy\n",
            "WARNING:gensim.models.ldamodel:too few updates, training might not converge; consider increasing the number of passes or iterations to improve accuracy\n",
            "WARNING:gensim.models.ldamodel:too few updates, training might not converge; consider increasing the number of passes or iterations to improve accuracy\n",
            "WARNING:gensim.models.ldamodel:too few updates, training might not converge; consider increasing the number of passes or iterations to improve accuracy\n",
            "WARNING:gensim.models.ldamodel:too few updates, training might not converge; consider increasing the number of passes or iterations to improve accuracy\n",
            "WARNING:gensim.models.ldamodel:too few updates, training might not converge; consider increasing the number of passes or iterations to improve accuracy\n",
            "WARNING:gensim.models.ldamodel:too few updates, training might not converge; consider increasing the number of passes or iterations to improve accuracy\n",
            "WARNING:gensim.models.ldamodel:too few updates, training might not converge; consider increasing the number of passes or iterations to improve accuracy\n",
            "WARNING:gensim.models.ldamodel:too few updates, training might not converge; consider increasing the number of passes or iterations to improve accuracy\n",
            "WARNING:gensim.models.ldamodel:too few updates, training might not converge; consider increasing the number of passes or iterations to improve accuracy\n",
            "WARNING:gensim.models.ldamodel:too few updates, training might not converge; consider increasing the number of passes or iterations to improve accuracy\n",
            "WARNING:gensim.models.ldamodel:too few updates, training might not converge; consider increasing the number of passes or iterations to improve accuracy\n",
            "WARNING:gensim.models.ldamodel:too few updates, training might not converge; consider increasing the number of passes or iterations to improve accuracy\n",
            "WARNING:gensim.models.ldamodel:too few updates, training might not converge; consider increasing the number of passes or iterations to improve accuracy\n",
            "WARNING:gensim.models.ldamodel:too few updates, training might not converge; consider increasing the number of passes or iterations to improve accuracy\n",
            "WARNING:gensim.models.ldamodel:too few updates, training might not converge; consider increasing the number of passes or iterations to improve accuracy\n",
            "WARNING:gensim.models.ldamodel:too few updates, training might not converge; consider increasing the number of passes or iterations to improve accuracy\n",
            "WARNING:gensim.models.ldamodel:too few updates, training might not converge; consider increasing the number of passes or iterations to improve accuracy\n",
            "WARNING:gensim.models.ldamodel:too few updates, training might not converge; consider increasing the number of passes or iterations to improve accuracy\n",
            "WARNING:gensim.models.ldamodel:too few updates, training might not converge; consider increasing the number of passes or iterations to improve accuracy\n",
            "WARNING:gensim.models.ldamodel:too few updates, training might not converge; consider increasing the number of passes or iterations to improve accuracy\n",
            "WARNING:gensim.models.ldamodel:too few updates, training might not converge; consider increasing the number of passes or iterations to improve accuracy\n"
          ]
        }
      ],
      "source": [
        "model_list, coherence_values = compute_coherence_values(dictionary=dictionary, corpus=doc_term_matrix, texts=tokenized_reviews, start=2, limit=50, step=1)"
      ]
    },
    {
      "cell_type": "code",
      "execution_count": null,
      "metadata": {
        "colab": {
          "base_uri": "https://localhost:8080/",
          "height": 862
        },
        "id": "mBTRtKTXy5sj",
        "outputId": "cdf13eea-6175-4e79-e89d-a60d1543e527"
      },
      "outputs": [
        {
          "output_type": "execute_result",
          "data": {
            "text/plain": [
              "PreparedData(topic_coordinates=              x         y  topics  cluster       Freq\n",
              "topic                                                \n",
              "0      0.002373 -0.001742       1        1  95.288479\n",
              "2     -0.000591  0.000438       2        1   1.177881\n",
              "1     -0.000598  0.000429       3        1   1.177880\n",
              "4     -0.000594  0.000434       4        1   1.177880\n",
              "3     -0.000589  0.000441       5        1   1.177880, topic_info=             Term      Freq     Total Category  logprob  loglift\n",
              "9          policy  1.000000  1.000000  Default  15.0000  15.0000\n",
              "0            bias  1.000000  1.000000  Default  14.0000  14.0000\n",
              "1           datum  1.000000  1.000000  Default  13.0000  13.0000\n",
              "2          ensure  1.000000  1.000000  Default  12.0000  12.0000\n",
              "3      experience  1.000000  1.000000  Default  11.0000  11.0000\n",
              "..            ...       ...       ...      ...      ...      ...\n",
              "11    stakeholder  0.012564  1.013168   Topic5  -2.7080   0.0515\n",
              "12  understanding  0.012564  1.013168   Topic5  -2.7080   0.0515\n",
              "13            use  0.012564  1.013168   Topic5  -2.7080   0.0515\n",
              "14           work  0.012564  1.013168   Topic5  -2.7080   0.0515\n",
              "9          policy  0.012564  1.815646   Topic5  -2.7081  -0.5319\n",
              "\n",
              "[90 rows x 6 columns], token_table=      Topic      Freq           Term\n",
              "term                                \n",
              "0         1  0.987003           bias\n",
              "1         1  0.987003          datum\n",
              "2         1  0.987003         ensure\n",
              "3         1  0.987003     experience\n",
              "4         1  0.987003       feedback\n",
              "5         1  0.987003           help\n",
              "6         1  0.987003      important\n",
              "7         1  0.987003         people\n",
              "8         1  0.987003   performative\n",
              "9         1  1.101536         policy\n",
              "10        1  0.987003           real\n",
              "11        1  0.987003    stakeholder\n",
              "12        1  0.987003  understanding\n",
              "13        1  0.987003            use\n",
              "14        1  0.987003           work, R=15, lambda_step=0.01, plot_opts={'xlab': 'PC1', 'ylab': 'PC2'}, topic_order=[1, 3, 2, 5, 4])"
            ],
            "text/html": [
              "\n",
              "<link rel=\"stylesheet\" type=\"text/css\" href=\"https://cdn.jsdelivr.net/gh/bmabey/pyLDAvis@3.4.0/pyLDAvis/js/ldavis.v1.0.0.css\">\n",
              "\n",
              "\n",
              "<div id=\"ldavis_el1561401777279248163427677287\" style=\"background-color:white;\"></div>\n",
              "<script type=\"text/javascript\">\n",
              "\n",
              "var ldavis_el1561401777279248163427677287_data = {\"mdsDat\": {\"x\": [0.0023734992387782687, -0.0005914133502943507, -0.0005981512610583489, -0.0005944981024306327, -0.0005894365249949367], \"y\": [-0.0017415294469658152, 0.00043807857575252086, 0.0004288329025786763, 0.0004338831589796066, 0.0004407348096550112], \"topics\": [1, 2, 3, 4, 5], \"cluster\": [1, 1, 1, 1, 1], \"Freq\": [95.28847861820103, 1.1778813699045674, 1.177880345449743, 1.177879972920716, 1.1778796935239457]}, \"tinfo\": {\"Term\": [\"policy\", \"bias\", \"datum\", \"ensure\", \"experience\", \"feedback\", \"help\", \"important\", \"people\", \"performative\", \"real\", \"stakeholder\", \"understanding\", \"use\", \"work\", \"policy\", \"bias\", \"datum\", \"ensure\", \"experience\", \"feedback\", \"help\", \"important\", \"people\", \"performative\", \"real\", \"stakeholder\", \"understanding\", \"use\", \"work\", \"bias\", \"datum\", \"ensure\", \"experience\", \"feedback\", \"help\", \"important\", \"people\", \"performative\", \"real\", \"stakeholder\", \"understanding\", \"use\", \"work\", \"policy\", \"bias\", \"datum\", \"ensure\", \"experience\", \"feedback\", \"help\", \"important\", \"people\", \"performative\", \"real\", \"stakeholder\", \"understanding\", \"use\", \"work\", \"policy\", \"bias\", \"datum\", \"ensure\", \"experience\", \"feedback\", \"help\", \"important\", \"people\", \"performative\", \"real\", \"stakeholder\", \"understanding\", \"use\", \"work\", \"policy\", \"bias\", \"datum\", \"ensure\", \"experience\", \"feedback\", \"help\", \"important\", \"people\", \"performative\", \"real\", \"stakeholder\", \"understanding\", \"use\", \"work\", \"policy\"], \"Freq\": [1.0, 1.0, 1.0, 1.0, 1.0, 1.0, 1.0, 1.0, 1.0, 1.0, 1.0, 1.0, 1.0, 1.0, 1.0, 1.765390341025011, 0.9629118497934996, 0.9629118497934996, 0.9629118497934996, 0.9629118497934996, 0.9629118497934996, 0.9629118497934996, 0.9629118497934996, 0.9629118497934996, 0.9629118497934996, 0.9629118497934996, 0.9629118497934996, 0.9629118497934996, 0.9629118497934996, 0.9629118497934996, 0.012564077119389672, 0.012564077119389672, 0.012564077119389672, 0.012564077119389672, 0.012564077119389672, 0.012564077119389672, 0.012564077119389672, 0.012564077119389672, 0.012564077119389672, 0.012564077119389672, 0.012564077119389672, 0.012564077119389672, 0.012564077119389672, 0.012564077119389672, 0.012563945129851484, 0.012564066191863565, 0.012564066191863565, 0.012564066191863565, 0.012564066191863565, 0.012564066191863565, 0.012564066191863565, 0.012564066191863565, 0.012564066191863565, 0.012564066191863565, 0.012564066191863565, 0.012564066191863565, 0.012564066191863565, 0.012564066191863565, 0.012564066191863565, 0.012563934202440175, 0.012564062218217709, 0.012564062218217709, 0.012564062218217709, 0.012564062218217709, 0.012564062218217709, 0.012564062218217709, 0.012564062218217709, 0.012564062218217709, 0.012564062218217709, 0.012564062218217709, 0.012564062218217709, 0.012564062218217709, 0.012564062218217709, 0.012564062218217709, 0.012563930228836062, 0.012564059237983316, 0.012564059237983316, 0.012564059237983316, 0.012564059237983316, 0.012564059237983316, 0.012564059237983316, 0.012564059237983316, 0.012564059237983316, 0.012564059237983316, 0.012564059237983316, 0.012564059237983316, 0.012564059237983316, 0.012564059237983316, 0.012564059237983316, 0.012563927248632978], \"Total\": [1.0, 1.0, 1.0, 1.0, 1.0, 1.0, 1.0, 1.0, 1.0, 1.0, 1.0, 1.0, 1.0, 1.0, 1.0, 1.8156460778347716, 1.013168114560954, 1.013168114560954, 1.013168114560954, 1.013168114560954, 1.013168114560954, 1.013168114560954, 1.013168114560954, 1.013168114560954, 1.013168114560954, 1.013168114560954, 1.013168114560954, 1.013168114560954, 1.013168114560954, 1.013168114560954, 1.013168114560954, 1.013168114560954, 1.013168114560954, 1.013168114560954, 1.013168114560954, 1.013168114560954, 1.013168114560954, 1.013168114560954, 1.013168114560954, 1.013168114560954, 1.013168114560954, 1.013168114560954, 1.013168114560954, 1.013168114560954, 1.8156460778347716, 1.013168114560954, 1.013168114560954, 1.013168114560954, 1.013168114560954, 1.013168114560954, 1.013168114560954, 1.013168114560954, 1.013168114560954, 1.013168114560954, 1.013168114560954, 1.013168114560954, 1.013168114560954, 1.013168114560954, 1.013168114560954, 1.8156460778347716, 1.013168114560954, 1.013168114560954, 1.013168114560954, 1.013168114560954, 1.013168114560954, 1.013168114560954, 1.013168114560954, 1.013168114560954, 1.013168114560954, 1.013168114560954, 1.013168114560954, 1.013168114560954, 1.013168114560954, 1.013168114560954, 1.8156460778347716, 1.013168114560954, 1.013168114560954, 1.013168114560954, 1.013168114560954, 1.013168114560954, 1.013168114560954, 1.013168114560954, 1.013168114560954, 1.013168114560954, 1.013168114560954, 1.013168114560954, 1.013168114560954, 1.013168114560954, 1.013168114560954, 1.8156460778347716], \"Category\": [\"Default\", \"Default\", \"Default\", \"Default\", \"Default\", \"Default\", \"Default\", \"Default\", \"Default\", \"Default\", \"Default\", \"Default\", \"Default\", \"Default\", \"Default\", \"Topic1\", \"Topic1\", \"Topic1\", \"Topic1\", \"Topic1\", \"Topic1\", \"Topic1\", \"Topic1\", \"Topic1\", \"Topic1\", \"Topic1\", \"Topic1\", \"Topic1\", \"Topic1\", \"Topic1\", \"Topic2\", \"Topic2\", \"Topic2\", \"Topic2\", \"Topic2\", \"Topic2\", \"Topic2\", \"Topic2\", \"Topic2\", \"Topic2\", \"Topic2\", \"Topic2\", \"Topic2\", \"Topic2\", \"Topic2\", \"Topic3\", \"Topic3\", \"Topic3\", \"Topic3\", \"Topic3\", \"Topic3\", \"Topic3\", \"Topic3\", \"Topic3\", \"Topic3\", \"Topic3\", \"Topic3\", \"Topic3\", \"Topic3\", \"Topic3\", \"Topic4\", \"Topic4\", \"Topic4\", \"Topic4\", \"Topic4\", \"Topic4\", \"Topic4\", \"Topic4\", \"Topic4\", \"Topic4\", \"Topic4\", \"Topic4\", \"Topic4\", \"Topic4\", \"Topic4\", \"Topic5\", \"Topic5\", \"Topic5\", \"Topic5\", \"Topic5\", \"Topic5\", \"Topic5\", \"Topic5\", \"Topic5\", \"Topic5\", \"Topic5\", \"Topic5\", \"Topic5\", \"Topic5\", \"Topic5\"], \"logprob\": [15.0, 14.0, 13.0, 12.0, 11.0, 10.0, 9.0, 8.0, 7.0, 6.0, 5.0, 4.0, 3.0, 2.0, 1.0, -2.156, -2.7621, -2.7621, -2.7621, -2.7621, -2.7621, -2.7621, -2.7621, -2.7621, -2.7621, -2.7621, -2.7621, -2.7621, -2.7621, -2.7621, -2.708, -2.708, -2.708, -2.708, -2.708, -2.708, -2.708, -2.708, -2.708, -2.708, -2.708, -2.708, -2.708, -2.708, -2.7081, -2.708, -2.708, -2.708, -2.708, -2.708, -2.708, -2.708, -2.708, -2.708, -2.708, -2.708, -2.708, -2.708, -2.708, -2.7081, -2.708, -2.708, -2.708, -2.708, -2.708, -2.708, -2.708, -2.708, -2.708, -2.708, -2.708, -2.708, -2.708, -2.708, -2.7081, -2.708, -2.708, -2.708, -2.708, -2.708, -2.708, -2.708, -2.708, -2.708, -2.708, -2.708, -2.708, -2.708, -2.708, -2.7081], \"loglift\": [15.0, 14.0, 13.0, 12.0, 11.0, 10.0, 9.0, 8.0, 7.0, 6.0, 5.0, 4.0, 3.0, 2.0, 1.0, 0.0202, -0.0026, -0.0026, -0.0026, -0.0026, -0.0026, -0.0026, -0.0026, -0.0026, -0.0026, -0.0026, -0.0026, -0.0026, -0.0026, -0.0026, 0.0515, 0.0515, 0.0515, 0.0515, 0.0515, 0.0515, 0.0515, 0.0515, 0.0515, 0.0515, 0.0515, 0.0515, 0.0515, 0.0515, -0.5319, 0.0515, 0.0515, 0.0515, 0.0515, 0.0515, 0.0515, 0.0515, 0.0515, 0.0515, 0.0515, 0.0515, 0.0515, 0.0515, 0.0515, -0.5319, 0.0515, 0.0515, 0.0515, 0.0515, 0.0515, 0.0515, 0.0515, 0.0515, 0.0515, 0.0515, 0.0515, 0.0515, 0.0515, 0.0515, -0.5319, 0.0515, 0.0515, 0.0515, 0.0515, 0.0515, 0.0515, 0.0515, 0.0515, 0.0515, 0.0515, 0.0515, 0.0515, 0.0515, 0.0515, -0.5319]}, \"token.table\": {\"Topic\": [1, 1, 1, 1, 1, 1, 1, 1, 1, 1, 1, 1, 1, 1, 1], \"Freq\": [0.9870030310155782, 0.9870030310155782, 0.9870030310155782, 0.9870030310155782, 0.9870030310155782, 0.9870030310155782, 0.9870030310155782, 0.9870030310155782, 0.9870030310155782, 1.1015362654736531, 0.9870030310155782, 0.9870030310155782, 0.9870030310155782, 0.9870030310155782, 0.9870030310155782], \"Term\": [\"bias\", \"datum\", \"ensure\", \"experience\", \"feedback\", \"help\", \"important\", \"people\", \"performative\", \"policy\", \"real\", \"stakeholder\", \"understanding\", \"use\", \"work\"]}, \"R\": 15, \"lambda.step\": 0.01, \"plot.opts\": {\"xlab\": \"PC1\", \"ylab\": \"PC2\"}, \"topic.order\": [1, 3, 2, 5, 4]};\n",
              "\n",
              "function LDAvis_load_lib(url, callback){\n",
              "  var s = document.createElement('script');\n",
              "  s.src = url;\n",
              "  s.async = true;\n",
              "  s.onreadystatechange = s.onload = callback;\n",
              "  s.onerror = function(){console.warn(\"failed to load library \" + url);};\n",
              "  document.getElementsByTagName(\"head\")[0].appendChild(s);\n",
              "}\n",
              "\n",
              "if(typeof(LDAvis) !== \"undefined\"){\n",
              "   // already loaded: just create the visualization\n",
              "   !function(LDAvis){\n",
              "       new LDAvis(\"#\" + \"ldavis_el1561401777279248163427677287\", ldavis_el1561401777279248163427677287_data);\n",
              "   }(LDAvis);\n",
              "}else if(typeof define === \"function\" && define.amd){\n",
              "   // require.js is available: use it to load d3/LDAvis\n",
              "   require.config({paths: {d3: \"https://d3js.org/d3.v5\"}});\n",
              "   require([\"d3\"], function(d3){\n",
              "      window.d3 = d3;\n",
              "      LDAvis_load_lib(\"https://cdn.jsdelivr.net/gh/bmabey/pyLDAvis@3.4.0/pyLDAvis/js/ldavis.v3.0.0.js\", function(){\n",
              "        new LDAvis(\"#\" + \"ldavis_el1561401777279248163427677287\", ldavis_el1561401777279248163427677287_data);\n",
              "      });\n",
              "    });\n",
              "}else{\n",
              "    // require.js not available: dynamically load d3 & LDAvis\n",
              "    LDAvis_load_lib(\"https://d3js.org/d3.v5.js\", function(){\n",
              "         LDAvis_load_lib(\"https://cdn.jsdelivr.net/gh/bmabey/pyLDAvis@3.4.0/pyLDAvis/js/ldavis.v3.0.0.js\", function(){\n",
              "                 new LDAvis(\"#\" + \"ldavis_el1561401777279248163427677287\", ldavis_el1561401777279248163427677287_data);\n",
              "            })\n",
              "         });\n",
              "}\n",
              "</script>"
            ]
          },
          "metadata": {},
          "execution_count": 18
        }
      ],
      "source": [
        "pyLDAvis.enable_notebook()\n",
        "vis = pyLDAvis.gensim.prepare(lda_model, doc_term_matrix, dictionary,mds='mmds')\n",
        "vis"
      ]
    },
    {
      "cell_type": "markdown",
      "source": [
        "Communicate the policy to all employees and stakeholders, emphasizing the importance of DEI and the organization's commitment to creating a more inclusive workplace."
      ],
      "metadata": {
        "id": "YDe1dq3mkWfu"
      }
    },
    {
      "cell_type": "code",
      "execution_count": null,
      "metadata": {
        "id": "8993mJMS2eyk"
      },
      "outputs": [],
      "source": [
        "df['Cluster 2'] = df['Cluster 2'].astype(str)"
      ]
    },
    {
      "cell_type": "code",
      "execution_count": null,
      "metadata": {
        "colab": {
          "base_uri": "https://localhost:8080/"
        },
        "id": "SgNLFv3g2e2p",
        "outputId": "b0ed79e2-0e62-4032-a0ce-5c8eb5442d80"
      },
      "outputs": [
        {
          "output_type": "stream",
          "name": "stdout",
          "text": [
            "encourage,communication,equity,groups,organizations,hiring,job,inclusive,opportunities,team,candidates,culture,provide,training,create,help,inclusion,employees,diverse,diversity\n",
            "['communication', 'equity', 'group', 'organization', 'hiring', 'job', 'inclusive', 'opportunity', 'team', 'candidate', 'culture', 'provide', 'training', 'help', 'inclusion', 'employee', 'diverse', 'diversity']\n",
            "\n",
            "Perplexity:  -3.5518220066918267\n",
            "\n",
            "Coherence Score:  1.0\n"
          ]
        }
      ],
      "source": [
        "text_list=df['Cluster 2'].tolist()\n",
        "print(text_list[0])\n",
        "tokenized_reviews = lemmatization(text_list)\n",
        "print(tokenized_reviews[0])\n",
        "\n",
        "dictionary = corpora.Dictionary(tokenized_reviews)\n",
        "doc_term_matrix = [dictionary.doc2bow(rev) for rev in tokenized_reviews]\n",
        "\n",
        "# Build LDA model\n",
        "lda_model = LDA(corpus=doc_term_matrix, id2word=dictionary, num_topics=5, random_state=100,\n",
        "                chunksize=1000, passes=50,iterations=100)\n",
        "print('\\nPerplexity: ', lda_model.log_perplexity(doc_term_matrix,total_docs=10000))  # a measure of how good the model is. lower the better.\n",
        "\n",
        "# Compute Coherence Score\n",
        "from gensim.models.coherencemodel import CoherenceModel\n",
        "coherence_model_lda = CoherenceModel(model=lda_model, texts=tokenized_reviews, dictionary=dictionary , coherence='c_v')\n",
        "coherence_lda = coherence_model_lda.get_coherence()\n",
        "print('\\nCoherence Score: ', coherence_lda)"
      ]
    },
    {
      "cell_type": "code",
      "execution_count": null,
      "metadata": {
        "colab": {
          "base_uri": "https://localhost:8080/"
        },
        "id": "8VJNaT9b2e52",
        "outputId": "01cd95ee-3e37-4eec-eab5-815dab4eb662"
      },
      "outputs": [
        {
          "output_type": "stream",
          "name": "stderr",
          "text": [
            "WARNING:gensim.models.ldamodel:too few updates, training might not converge; consider increasing the number of passes or iterations to improve accuracy\n",
            "WARNING:gensim.models.ldamodel:too few updates, training might not converge; consider increasing the number of passes or iterations to improve accuracy\n",
            "WARNING:gensim.models.ldamodel:too few updates, training might not converge; consider increasing the number of passes or iterations to improve accuracy\n",
            "WARNING:gensim.models.ldamodel:too few updates, training might not converge; consider increasing the number of passes or iterations to improve accuracy\n",
            "WARNING:gensim.models.ldamodel:too few updates, training might not converge; consider increasing the number of passes or iterations to improve accuracy\n",
            "WARNING:gensim.models.ldamodel:too few updates, training might not converge; consider increasing the number of passes or iterations to improve accuracy\n",
            "WARNING:gensim.models.ldamodel:too few updates, training might not converge; consider increasing the number of passes or iterations to improve accuracy\n",
            "WARNING:gensim.models.ldamodel:too few updates, training might not converge; consider increasing the number of passes or iterations to improve accuracy\n",
            "WARNING:gensim.models.ldamodel:too few updates, training might not converge; consider increasing the number of passes or iterations to improve accuracy\n",
            "WARNING:gensim.models.ldamodel:too few updates, training might not converge; consider increasing the number of passes or iterations to improve accuracy\n",
            "WARNING:gensim.models.ldamodel:too few updates, training might not converge; consider increasing the number of passes or iterations to improve accuracy\n",
            "WARNING:gensim.models.ldamodel:too few updates, training might not converge; consider increasing the number of passes or iterations to improve accuracy\n",
            "WARNING:gensim.models.ldamodel:too few updates, training might not converge; consider increasing the number of passes or iterations to improve accuracy\n",
            "WARNING:gensim.models.ldamodel:too few updates, training might not converge; consider increasing the number of passes or iterations to improve accuracy\n",
            "WARNING:gensim.models.ldamodel:too few updates, training might not converge; consider increasing the number of passes or iterations to improve accuracy\n",
            "WARNING:gensim.models.ldamodel:too few updates, training might not converge; consider increasing the number of passes or iterations to improve accuracy\n",
            "WARNING:gensim.models.ldamodel:too few updates, training might not converge; consider increasing the number of passes or iterations to improve accuracy\n",
            "WARNING:gensim.models.ldamodel:too few updates, training might not converge; consider increasing the number of passes or iterations to improve accuracy\n",
            "WARNING:gensim.models.ldamodel:too few updates, training might not converge; consider increasing the number of passes or iterations to improve accuracy\n",
            "WARNING:gensim.models.ldamodel:too few updates, training might not converge; consider increasing the number of passes or iterations to improve accuracy\n",
            "WARNING:gensim.models.ldamodel:too few updates, training might not converge; consider increasing the number of passes or iterations to improve accuracy\n",
            "WARNING:gensim.models.ldamodel:too few updates, training might not converge; consider increasing the number of passes or iterations to improve accuracy\n",
            "WARNING:gensim.models.ldamodel:too few updates, training might not converge; consider increasing the number of passes or iterations to improve accuracy\n",
            "WARNING:gensim.models.ldamodel:too few updates, training might not converge; consider increasing the number of passes or iterations to improve accuracy\n",
            "WARNING:gensim.models.ldamodel:too few updates, training might not converge; consider increasing the number of passes or iterations to improve accuracy\n",
            "WARNING:gensim.models.ldamodel:too few updates, training might not converge; consider increasing the number of passes or iterations to improve accuracy\n",
            "WARNING:gensim.models.ldamodel:too few updates, training might not converge; consider increasing the number of passes or iterations to improve accuracy\n",
            "WARNING:gensim.models.ldamodel:too few updates, training might not converge; consider increasing the number of passes or iterations to improve accuracy\n",
            "WARNING:gensim.models.ldamodel:too few updates, training might not converge; consider increasing the number of passes or iterations to improve accuracy\n",
            "WARNING:gensim.models.ldamodel:too few updates, training might not converge; consider increasing the number of passes or iterations to improve accuracy\n",
            "WARNING:gensim.models.ldamodel:too few updates, training might not converge; consider increasing the number of passes or iterations to improve accuracy\n",
            "WARNING:gensim.models.ldamodel:too few updates, training might not converge; consider increasing the number of passes or iterations to improve accuracy\n",
            "WARNING:gensim.models.ldamodel:too few updates, training might not converge; consider increasing the number of passes or iterations to improve accuracy\n",
            "WARNING:gensim.models.ldamodel:too few updates, training might not converge; consider increasing the number of passes or iterations to improve accuracy\n",
            "WARNING:gensim.models.ldamodel:too few updates, training might not converge; consider increasing the number of passes or iterations to improve accuracy\n",
            "WARNING:gensim.models.ldamodel:too few updates, training might not converge; consider increasing the number of passes or iterations to improve accuracy\n",
            "WARNING:gensim.models.ldamodel:too few updates, training might not converge; consider increasing the number of passes or iterations to improve accuracy\n",
            "WARNING:gensim.models.ldamodel:too few updates, training might not converge; consider increasing the number of passes or iterations to improve accuracy\n",
            "WARNING:gensim.models.ldamodel:too few updates, training might not converge; consider increasing the number of passes or iterations to improve accuracy\n",
            "WARNING:gensim.models.ldamodel:too few updates, training might not converge; consider increasing the number of passes or iterations to improve accuracy\n",
            "WARNING:gensim.models.ldamodel:too few updates, training might not converge; consider increasing the number of passes or iterations to improve accuracy\n",
            "WARNING:gensim.models.ldamodel:too few updates, training might not converge; consider increasing the number of passes or iterations to improve accuracy\n",
            "WARNING:gensim.models.ldamodel:too few updates, training might not converge; consider increasing the number of passes or iterations to improve accuracy\n",
            "WARNING:gensim.models.ldamodel:too few updates, training might not converge; consider increasing the number of passes or iterations to improve accuracy\n",
            "WARNING:gensim.models.ldamodel:too few updates, training might not converge; consider increasing the number of passes or iterations to improve accuracy\n",
            "WARNING:gensim.models.ldamodel:too few updates, training might not converge; consider increasing the number of passes or iterations to improve accuracy\n",
            "WARNING:gensim.models.ldamodel:too few updates, training might not converge; consider increasing the number of passes or iterations to improve accuracy\n",
            "WARNING:gensim.models.ldamodel:too few updates, training might not converge; consider increasing the number of passes or iterations to improve accuracy\n"
          ]
        }
      ],
      "source": [
        "model_list, coherence_values = compute_coherence_values(dictionary=dictionary, corpus=doc_term_matrix, texts=tokenized_reviews, start=2, limit=50, step=1)"
      ]
    },
    {
      "cell_type": "code",
      "execution_count": null,
      "metadata": {
        "colab": {
          "base_uri": "https://localhost:8080/",
          "height": 862
        },
        "id": "j7XViRm82e9a",
        "outputId": "291dd92a-8ba5-460c-ddf1-3a856c54675b"
      },
      "outputs": [
        {
          "output_type": "execute_result",
          "data": {
            "text/plain": [
              "PreparedData(topic_coordinates=                  x             y  topics  cluster       Freq\n",
              "topic                                                        \n",
              "4     -1.820986e-15  6.998217e-15       1        1  95.784471\n",
              "0      5.024384e-15 -1.807924e-14       2        1   1.053884\n",
              "1     -1.566983e-15  3.342541e-15       3        1   1.053883\n",
              "3     -1.474815e-15  3.834658e-15       4        1   1.053882\n",
              "2     -1.616010e-16  3.903823e-15       5        1   1.053881, topic_info=         Term      Freq  Total Category  logprob  loglift\n",
              "17   training  1.000000    1.0  Default  18.0000     18.0\n",
              "10  inclusion  1.000000    1.0  Default  17.0000     17.0\n",
              "0   candidate  1.000000    1.0  Default  16.0000     16.0\n",
              "9      hiring  1.000000    1.0  Default  15.0000     15.0\n",
              "5    employee  1.000000    1.0  Default  14.0000     14.0\n",
              "..        ...       ...    ...      ...      ...      ...\n",
              "12        job  0.010539    1.0   Topic5  -2.8904     -0.0\n",
              "8        help  0.010539    1.0   Topic5  -2.8904     -0.0\n",
              "7       group  0.010539    1.0   Topic5  -2.8904     -0.0\n",
              "5    employee  0.010539    1.0   Topic5  -2.8904     -0.0\n",
              "0   candidate  0.010539    1.0   Topic5  -2.8904     -0.0\n",
              "\n",
              "[108 rows x 6 columns], token_table=      Topic  Freq           Term\n",
              "term                            \n",
              "0         1   1.0      candidate\n",
              "1         1   1.0  communication\n",
              "2         1   1.0        culture\n",
              "3         1   1.0        diverse\n",
              "4         1   1.0      diversity\n",
              "5         1   1.0       employee\n",
              "6         1   1.0         equity\n",
              "7         1   1.0          group\n",
              "8         1   1.0           help\n",
              "9         1   1.0         hiring\n",
              "10        1   1.0      inclusion\n",
              "11        1   1.0      inclusive\n",
              "12        1   1.0            job\n",
              "13        1   1.0    opportunity\n",
              "14        1   1.0   organization\n",
              "15        1   1.0        provide\n",
              "16        1   1.0           team\n",
              "17        1   1.0       training, R=18, lambda_step=0.01, plot_opts={'xlab': 'PC1', 'ylab': 'PC2'}, topic_order=[5, 1, 2, 4, 3])"
            ],
            "text/html": [
              "\n",
              "<link rel=\"stylesheet\" type=\"text/css\" href=\"https://cdn.jsdelivr.net/gh/bmabey/pyLDAvis@3.4.0/pyLDAvis/js/ldavis.v1.0.0.css\">\n",
              "\n",
              "\n",
              "<div id=\"ldavis_el1561401777194373441983762975\" style=\"background-color:white;\"></div>\n",
              "<script type=\"text/javascript\">\n",
              "\n",
              "var ldavis_el1561401777194373441983762975_data = {\"mdsDat\": {\"x\": [-1.820985896340631e-15, 5.024384158211206e-15, -1.5669826218691416e-15, -1.474814660743042e-15, -1.616009792583918e-16], \"y\": [6.998216808538494e-15, -1.8079238084783926e-14, 3.3425408902215507e-15, 3.834657767567067e-15, 3.903822618456816e-15], \"topics\": [1, 2, 3, 4, 5], \"cluster\": [1, 1, 1, 1, 1], \"Freq\": [95.78447083220848, 1.0538840381776569, 1.0538826411938327, 1.053881803003538, 1.0538806854164786]}, \"tinfo\": {\"Term\": [\"training\", \"inclusion\", \"candidate\", \"hiring\", \"employee\", \"provide\", \"culture\", \"communication\", \"diversity\", \"group\", \"opportunity\", \"help\", \"equity\", \"team\", \"job\", \"organization\", \"inclusive\", \"diverse\", \"candidate\", \"inclusive\", \"team\", \"job\", \"equity\", \"help\", \"group\", \"communication\", \"hiring\", \"employee\", \"inclusion\", \"training\", \"diverse\", \"organization\", \"opportunity\", \"diversity\", \"provide\", \"culture\", \"provide\", \"culture\", \"opportunity\", \"diversity\", \"diverse\", \"organization\", \"hiring\", \"employee\", \"inclusion\", \"training\", \"group\", \"help\", \"job\", \"communication\", \"equity\", \"team\", \"inclusive\", \"candidate\", \"organization\", \"opportunity\", \"diversity\", \"provide\", \"culture\", \"team\", \"equity\", \"communication\", \"hiring\", \"employee\", \"training\", \"inclusion\", \"diverse\", \"inclusive\", \"job\", \"help\", \"group\", \"candidate\", \"organization\", \"opportunity\", \"diversity\", \"culture\", \"inclusive\", \"team\", \"employee\", \"training\", \"inclusion\", \"diverse\", \"provide\", \"job\", \"equity\", \"help\", \"group\", \"communication\", \"hiring\", \"candidate\", \"diverse\", \"organization\", \"diversity\", \"provide\", \"equity\", \"communication\", \"hiring\", \"inclusion\", \"training\", \"opportunity\", \"culture\", \"inclusive\", \"team\", \"job\", \"help\", \"group\", \"employee\", \"candidate\"], \"Freq\": [1.0, 1.0, 1.0, 1.0, 1.0, 0.0, 0.0, 1.0, 0.0, 1.0, 0.0, 1.0, 1.0, 1.0, 1.0, 0.0, 1.0, 0.0, 0.9578449340138775, 0.9578447413283939, 0.9578447413283939, 0.9578447413283939, 0.9578447413283939, 0.9578447413283939, 0.9578447413283939, 0.9578447413283939, 0.9578447413283939, 0.9578447413283939, 0.9578447413283939, 0.9578447413283939, 0.9578446128714049, 0.9578446128714049, 0.9578446128714049, 0.9578446128714049, 0.9578446128714049, 0.9578446128714049, 0.01053884781177715, 0.01053884781177715, 0.010538845691724141, 0.010538844985039805, 0.010538842158302461, 0.010538841451618125, 0.010538840744933789, 0.010538840744933789, 0.010538840744933789, 0.010538840744933789, 0.010538840038249453, 0.010538839331565117, 0.010538837918196445, 0.010538837918196445, 0.010538835798143437, 0.0105388350914591, 0.010538833678090428, 0.010538830851353084, 0.010538827481778465, 0.010538827481778465, 0.010538827481778465, 0.010538827481778465, 0.010538827481778465, 0.010538827481778465, 0.010538827481778465, 0.010538827481778465, 0.010538827481778465, 0.010538827481778465, 0.010538827481778465, 0.010538827481778465, 0.010538826068411666, 0.010538826068411666, 0.010538826068411666, 0.010538826068411666, 0.010538826068411666, 0.010538826068411666, 0.010538819099874669, 0.010538819099874669, 0.010538819099874669, 0.010538819099874669, 0.010538819099874669, 0.010538819099874669, 0.010538819099874669, 0.010538819099874669, 0.010538819099874669, 0.010538817686508994, 0.010538817686508994, 0.010538817686508994, 0.010538817686508994, 0.010538817686508994, 0.010538817686508994, 0.010538817686508994, 0.010538817686508994, 0.010538817686508994, 0.01053880792400294, 0.01053880792400294, 0.01053880792400294, 0.01053880792400294, 0.01053880792400294, 0.01053880792400294, 0.01053880792400294, 0.01053880792400294, 0.01053880792400294, 0.010538806510638765, 0.010538806510638765, 0.010538806510638765, 0.010538806510638765, 0.010538806510638765, 0.010538806510638765, 0.010538806510638765, 0.010538806510638765, 0.010538806510638765], \"Total\": [1.0, 1.0, 1.0, 1.0, 1.0, 0.0, 0.0, 1.0, 0.0, 1.0, 0.0, 1.0, 1.0, 1.0, 1.0, 0.0, 1.0, 0.0, 1.00000021513079, 1.0000000266854094, 1.000000029512145, 1.0000000295121498, 1.0000000302188277, 1.0000000309255184, 1.0000000316322029, 1.0000000323388807, 1.0000000351656182, 1.0000000351656197, 1.0000000365789838, 1.0000000365789838, 0.999999906708631, 0.9999999088286791, 0.9999999116554209, 0.9999999123621007, 0.9999999137754725, 0.9999999137754739, 0.9999999137754725, 0.9999999137754739, 0.9999999116554209, 0.9999999123621007, 0.999999906708631, 0.9999999088286791, 1.0000000351656182, 1.0000000351656197, 1.0000000365789838, 1.0000000365789838, 1.0000000316322029, 1.0000000309255184, 1.0000000295121498, 1.0000000323388807, 1.0000000302188277, 1.000000029512145, 1.0000000266854094, 1.00000021513079, 0.9999999088286791, 0.9999999116554209, 0.9999999123621007, 0.9999999137754725, 0.9999999137754739, 1.000000029512145, 1.0000000302188277, 1.0000000323388807, 1.0000000351656182, 1.0000000351656197, 1.0000000365789838, 1.0000000365789838, 0.999999906708631, 1.0000000266854094, 1.0000000295121498, 1.0000000309255184, 1.0000000316322029, 1.00000021513079, 0.9999999088286791, 0.9999999116554209, 0.9999999123621007, 0.9999999137754739, 1.0000000266854094, 1.000000029512145, 1.0000000351656197, 1.0000000365789838, 1.0000000365789838, 0.999999906708631, 0.9999999137754725, 1.0000000295121498, 1.0000000302188277, 1.0000000309255184, 1.0000000316322029, 1.0000000323388807, 1.0000000351656182, 1.00000021513079, 0.999999906708631, 0.9999999088286791, 0.9999999123621007, 0.9999999137754725, 1.0000000302188277, 1.0000000323388807, 1.0000000351656182, 1.0000000365789838, 1.0000000365789838, 0.9999999116554209, 0.9999999137754739, 1.0000000266854094, 1.000000029512145, 1.0000000295121498, 1.0000000309255184, 1.0000000316322029, 1.0000000351656197, 1.00000021513079], \"Category\": [\"Default\", \"Default\", \"Default\", \"Default\", \"Default\", \"Default\", \"Default\", \"Default\", \"Default\", \"Default\", \"Default\", \"Default\", \"Default\", \"Default\", \"Default\", \"Default\", \"Default\", \"Default\", \"Topic1\", \"Topic1\", \"Topic1\", \"Topic1\", \"Topic1\", \"Topic1\", \"Topic1\", \"Topic1\", \"Topic1\", \"Topic1\", \"Topic1\", \"Topic1\", \"Topic1\", \"Topic1\", \"Topic1\", \"Topic1\", \"Topic1\", \"Topic1\", \"Topic2\", \"Topic2\", \"Topic2\", \"Topic2\", \"Topic2\", \"Topic2\", \"Topic2\", \"Topic2\", \"Topic2\", \"Topic2\", \"Topic2\", \"Topic2\", \"Topic2\", \"Topic2\", \"Topic2\", \"Topic2\", \"Topic2\", \"Topic2\", \"Topic3\", \"Topic3\", \"Topic3\", \"Topic3\", \"Topic3\", \"Topic3\", \"Topic3\", \"Topic3\", \"Topic3\", \"Topic3\", \"Topic3\", \"Topic3\", \"Topic3\", \"Topic3\", \"Topic3\", \"Topic3\", \"Topic3\", \"Topic3\", \"Topic4\", \"Topic4\", \"Topic4\", \"Topic4\", \"Topic4\", \"Topic4\", \"Topic4\", \"Topic4\", \"Topic4\", \"Topic4\", \"Topic4\", \"Topic4\", \"Topic4\", \"Topic4\", \"Topic4\", \"Topic4\", \"Topic4\", \"Topic4\", \"Topic5\", \"Topic5\", \"Topic5\", \"Topic5\", \"Topic5\", \"Topic5\", \"Topic5\", \"Topic5\", \"Topic5\", \"Topic5\", \"Topic5\", \"Topic5\", \"Topic5\", \"Topic5\", \"Topic5\", \"Topic5\", \"Topic5\", \"Topic5\"], \"logprob\": [18.0, 17.0, 16.0, 15.0, 14.0, 13.0, 12.0, 11.0, 10.0, 9.0, 8.0, 7.0, 6.0, 5.0, 4.0, 3.0, 2.0, 1.0, -2.8904, -2.8904, -2.8904, -2.8904, -2.8904, -2.8904, -2.8904, -2.8904, -2.8904, -2.8904, -2.8904, -2.8904, -2.8904, -2.8904, -2.8904, -2.8904, -2.8904, -2.8904, -2.8904, -2.8904, -2.8904, -2.8904, -2.8904, -2.8904, -2.8904, -2.8904, -2.8904, -2.8904, -2.8904, -2.8904, -2.8904, -2.8904, -2.8904, -2.8904, -2.8904, -2.8904, -2.8904, -2.8904, -2.8904, -2.8904, -2.8904, -2.8904, -2.8904, -2.8904, -2.8904, -2.8904, -2.8904, -2.8904, -2.8904, -2.8904, -2.8904, -2.8904, -2.8904, -2.8904, -2.8904, -2.8904, -2.8904, -2.8904, -2.8904, -2.8904, -2.8904, -2.8904, -2.8904, -2.8904, -2.8904, -2.8904, -2.8904, -2.8904, -2.8904, -2.8904, -2.8904, -2.8904, -2.8904, -2.8904, -2.8904, -2.8904, -2.8904, -2.8904, -2.8904, -2.8904, -2.8904, -2.8904, -2.8904, -2.8904, -2.8904, -2.8904, -2.8904, -2.8904, -2.8904, -2.8904], \"loglift\": [18.0, 17.0, 16.0, 15.0, 14.0, 13.0, 12.0, 11.0, 10.0, 9.0, 8.0, 7.0, 6.0, 5.0, 4.0, 3.0, 2.0, 1.0, -0.0, -0.0, -0.0, -0.0, -0.0, -0.0, -0.0, -0.0, -0.0, -0.0, -0.0, -0.0, -0.0, -0.0, -0.0, -0.0, -0.0, -0.0, 0.0, 0.0, 0.0, 0.0, 0.0, 0.0, -0.0, -0.0, -0.0, -0.0, -0.0, -0.0, -0.0, -0.0, -0.0, -0.0, -0.0, -0.0, 0.0, 0.0, 0.0, 0.0, 0.0, 0.0, 0.0, 0.0, 0.0, 0.0, 0.0, 0.0, 0.0, -0.0, -0.0, -0.0, -0.0, -0.0, 0.0, 0.0, 0.0, 0.0, 0.0, 0.0, 0.0, 0.0, 0.0, 0.0, 0.0, -0.0, -0.0, -0.0, -0.0, -0.0, -0.0, -0.0, 0.0, 0.0, 0.0, 0.0, 0.0, 0.0, 0.0, 0.0, 0.0, 0.0, 0.0, -0.0, -0.0, -0.0, -0.0, -0.0, -0.0, -0.0]}, \"token.table\": {\"Topic\": [1, 1, 1, 1, 1, 1, 1, 1, 1, 1, 1, 1, 1, 1, 1, 1, 1, 1], \"Freq\": [0.9999997848692562, 0.9999999676611203, 1.0000000862245335, 1.0000000932913777, 1.000000087637907, 0.9999999648343815, 0.9999999697811732, 0.9999999683677981, 0.9999999690744826, 0.999999964834383, 0.9999999634210175, 0.9999999733145912, 0.999999970487851, 1.000000088344587, 1.0000000911713292, 1.0000000862245348, 0.9999999704878559, 0.9999999634210175], \"Term\": [\"candidate\", \"communication\", \"culture\", \"diverse\", \"diversity\", \"employee\", \"equity\", \"group\", \"help\", \"hiring\", \"inclusion\", \"inclusive\", \"job\", \"opportunity\", \"organization\", \"provide\", \"team\", \"training\"]}, \"R\": 18, \"lambda.step\": 0.01, \"plot.opts\": {\"xlab\": \"PC1\", \"ylab\": \"PC2\"}, \"topic.order\": [5, 1, 2, 4, 3]};\n",
              "\n",
              "function LDAvis_load_lib(url, callback){\n",
              "  var s = document.createElement('script');\n",
              "  s.src = url;\n",
              "  s.async = true;\n",
              "  s.onreadystatechange = s.onload = callback;\n",
              "  s.onerror = function(){console.warn(\"failed to load library \" + url);};\n",
              "  document.getElementsByTagName(\"head\")[0].appendChild(s);\n",
              "}\n",
              "\n",
              "if(typeof(LDAvis) !== \"undefined\"){\n",
              "   // already loaded: just create the visualization\n",
              "   !function(LDAvis){\n",
              "       new LDAvis(\"#\" + \"ldavis_el1561401777194373441983762975\", ldavis_el1561401777194373441983762975_data);\n",
              "   }(LDAvis);\n",
              "}else if(typeof define === \"function\" && define.amd){\n",
              "   // require.js is available: use it to load d3/LDAvis\n",
              "   require.config({paths: {d3: \"https://d3js.org/d3.v5\"}});\n",
              "   require([\"d3\"], function(d3){\n",
              "      window.d3 = d3;\n",
              "      LDAvis_load_lib(\"https://cdn.jsdelivr.net/gh/bmabey/pyLDAvis@3.4.0/pyLDAvis/js/ldavis.v3.0.0.js\", function(){\n",
              "        new LDAvis(\"#\" + \"ldavis_el1561401777194373441983762975\", ldavis_el1561401777194373441983762975_data);\n",
              "      });\n",
              "    });\n",
              "}else{\n",
              "    // require.js not available: dynamically load d3 & LDAvis\n",
              "    LDAvis_load_lib(\"https://d3js.org/d3.v5.js\", function(){\n",
              "         LDAvis_load_lib(\"https://cdn.jsdelivr.net/gh/bmabey/pyLDAvis@3.4.0/pyLDAvis/js/ldavis.v3.0.0.js\", function(){\n",
              "                 new LDAvis(\"#\" + \"ldavis_el1561401777194373441983762975\", ldavis_el1561401777194373441983762975_data);\n",
              "            })\n",
              "         });\n",
              "}\n",
              "</script>"
            ]
          },
          "metadata": {},
          "execution_count": 22
        }
      ],
      "source": [
        "pyLDAvis.enable_notebook()\n",
        "vis = pyLDAvis.gensim.prepare(lda_model, doc_term_matrix, dictionary,mds='mmds')\n",
        "vis"
      ]
    },
    {
      "cell_type": "markdown",
      "source": [
        "There is focus on the importance of diversity, equity, and inclusion in the workplace, which could be creating an inclusive culture, fair hiring practices, and providing opportunities for all employees to succeed."
      ],
      "metadata": {
        "id": "HB-UgO-ivA1a"
      }
    },
    {
      "cell_type": "code",
      "execution_count": null,
      "metadata": {
        "id": "l6k9DF232fAu"
      },
      "outputs": [],
      "source": [
        "df['Cluster 3'] = df['Cluster 3'].astype(str)"
      ]
    },
    {
      "cell_type": "code",
      "execution_count": null,
      "metadata": {
        "colab": {
          "base_uri": "https://localhost:8080/"
        },
        "id": "kV7vvy052fER",
        "outputId": "573e2563-9df0-4a7a-919e-3e0da66fb6de"
      },
      "outputs": [
        {
          "output_type": "stream",
          "name": "stdout",
          "text": [
            "achieving,goal,responsibilities,achieve,towards,everyone,help,specific,clear,evaluate,identify,monitor,objectives,regularly,track,ensure,goals,progress,action,plan\n",
            "['achieving', 'goal', 'responsibility', 'help', 'specific', 'clear', 'monitor', 'objective', 'track', 'ensure', 'goal', 'progress', 'action', 'plan']\n",
            "\n",
            "Perplexity:  -3.2090685885020664\n",
            "\n",
            "Coherence Score:  1.0\n"
          ]
        }
      ],
      "source": [
        "text_list=df['Cluster 3'].tolist()\n",
        "print(text_list[0])\n",
        "tokenized_reviews = lemmatization(text_list)\n",
        "print(tokenized_reviews[0])\n",
        "\n",
        "dictionary = corpora.Dictionary(tokenized_reviews)\n",
        "doc_term_matrix = [dictionary.doc2bow(rev) for rev in tokenized_reviews]\n",
        "\n",
        "# Build LDA model\n",
        "lda_model = LDA(corpus=doc_term_matrix, id2word=dictionary, num_topics=5, random_state=100,\n",
        "                chunksize=1000, passes=50,iterations=100)\n",
        "print('\\nPerplexity: ', lda_model.log_perplexity(doc_term_matrix,total_docs=10000))  # a measure of how good the model is. lower the better.\n",
        "\n",
        "# Compute Coherence Score\n",
        "from gensim.models.coherencemodel import CoherenceModel\n",
        "coherence_model_lda = CoherenceModel(model=lda_model, texts=tokenized_reviews, dictionary=dictionary , coherence='c_v')\n",
        "coherence_lda = coherence_model_lda.get_coherence()\n",
        "print('\\nCoherence Score: ', coherence_lda)"
      ]
    },
    {
      "cell_type": "code",
      "execution_count": null,
      "metadata": {
        "colab": {
          "base_uri": "https://localhost:8080/"
        },
        "id": "tjsg5BPr2fd-",
        "outputId": "4067f3d5-2b94-440d-ac6b-4991fd98aa3b"
      },
      "outputs": [
        {
          "output_type": "stream",
          "name": "stderr",
          "text": [
            "WARNING:gensim.models.ldamodel:too few updates, training might not converge; consider increasing the number of passes or iterations to improve accuracy\n",
            "WARNING:gensim.models.ldamodel:too few updates, training might not converge; consider increasing the number of passes or iterations to improve accuracy\n",
            "WARNING:gensim.models.ldamodel:too few updates, training might not converge; consider increasing the number of passes or iterations to improve accuracy\n",
            "WARNING:gensim.models.ldamodel:too few updates, training might not converge; consider increasing the number of passes or iterations to improve accuracy\n",
            "WARNING:gensim.models.ldamodel:too few updates, training might not converge; consider increasing the number of passes or iterations to improve accuracy\n",
            "WARNING:gensim.models.ldamodel:too few updates, training might not converge; consider increasing the number of passes or iterations to improve accuracy\n",
            "WARNING:gensim.models.ldamodel:too few updates, training might not converge; consider increasing the number of passes or iterations to improve accuracy\n",
            "WARNING:gensim.models.ldamodel:too few updates, training might not converge; consider increasing the number of passes or iterations to improve accuracy\n",
            "WARNING:gensim.models.ldamodel:too few updates, training might not converge; consider increasing the number of passes or iterations to improve accuracy\n",
            "WARNING:gensim.models.ldamodel:too few updates, training might not converge; consider increasing the number of passes or iterations to improve accuracy\n",
            "WARNING:gensim.models.ldamodel:too few updates, training might not converge; consider increasing the number of passes or iterations to improve accuracy\n",
            "WARNING:gensim.models.ldamodel:too few updates, training might not converge; consider increasing the number of passes or iterations to improve accuracy\n",
            "WARNING:gensim.models.ldamodel:too few updates, training might not converge; consider increasing the number of passes or iterations to improve accuracy\n",
            "WARNING:gensim.models.ldamodel:too few updates, training might not converge; consider increasing the number of passes or iterations to improve accuracy\n",
            "WARNING:gensim.models.ldamodel:too few updates, training might not converge; consider increasing the number of passes or iterations to improve accuracy\n",
            "WARNING:gensim.models.ldamodel:too few updates, training might not converge; consider increasing the number of passes or iterations to improve accuracy\n",
            "WARNING:gensim.models.ldamodel:too few updates, training might not converge; consider increasing the number of passes or iterations to improve accuracy\n",
            "WARNING:gensim.models.ldamodel:too few updates, training might not converge; consider increasing the number of passes or iterations to improve accuracy\n",
            "WARNING:gensim.models.ldamodel:too few updates, training might not converge; consider increasing the number of passes or iterations to improve accuracy\n",
            "WARNING:gensim.models.ldamodel:too few updates, training might not converge; consider increasing the number of passes or iterations to improve accuracy\n",
            "WARNING:gensim.models.ldamodel:too few updates, training might not converge; consider increasing the number of passes or iterations to improve accuracy\n",
            "WARNING:gensim.models.ldamodel:too few updates, training might not converge; consider increasing the number of passes or iterations to improve accuracy\n",
            "WARNING:gensim.models.ldamodel:too few updates, training might not converge; consider increasing the number of passes or iterations to improve accuracy\n",
            "WARNING:gensim.models.ldamodel:too few updates, training might not converge; consider increasing the number of passes or iterations to improve accuracy\n",
            "WARNING:gensim.models.ldamodel:too few updates, training might not converge; consider increasing the number of passes or iterations to improve accuracy\n",
            "WARNING:gensim.models.ldamodel:too few updates, training might not converge; consider increasing the number of passes or iterations to improve accuracy\n",
            "WARNING:gensim.models.ldamodel:too few updates, training might not converge; consider increasing the number of passes or iterations to improve accuracy\n",
            "WARNING:gensim.models.ldamodel:too few updates, training might not converge; consider increasing the number of passes or iterations to improve accuracy\n",
            "WARNING:gensim.models.ldamodel:too few updates, training might not converge; consider increasing the number of passes or iterations to improve accuracy\n",
            "WARNING:gensim.models.ldamodel:too few updates, training might not converge; consider increasing the number of passes or iterations to improve accuracy\n",
            "WARNING:gensim.models.ldamodel:too few updates, training might not converge; consider increasing the number of passes or iterations to improve accuracy\n",
            "WARNING:gensim.models.ldamodel:too few updates, training might not converge; consider increasing the number of passes or iterations to improve accuracy\n",
            "WARNING:gensim.models.ldamodel:too few updates, training might not converge; consider increasing the number of passes or iterations to improve accuracy\n",
            "WARNING:gensim.models.ldamodel:too few updates, training might not converge; consider increasing the number of passes or iterations to improve accuracy\n",
            "WARNING:gensim.models.ldamodel:too few updates, training might not converge; consider increasing the number of passes or iterations to improve accuracy\n",
            "WARNING:gensim.models.ldamodel:too few updates, training might not converge; consider increasing the number of passes or iterations to improve accuracy\n",
            "WARNING:gensim.models.ldamodel:too few updates, training might not converge; consider increasing the number of passes or iterations to improve accuracy\n",
            "WARNING:gensim.models.ldamodel:too few updates, training might not converge; consider increasing the number of passes or iterations to improve accuracy\n",
            "WARNING:gensim.models.ldamodel:too few updates, training might not converge; consider increasing the number of passes or iterations to improve accuracy\n",
            "WARNING:gensim.models.ldamodel:too few updates, training might not converge; consider increasing the number of passes or iterations to improve accuracy\n",
            "WARNING:gensim.models.ldamodel:too few updates, training might not converge; consider increasing the number of passes or iterations to improve accuracy\n",
            "WARNING:gensim.models.ldamodel:too few updates, training might not converge; consider increasing the number of passes or iterations to improve accuracy\n",
            "WARNING:gensim.models.ldamodel:too few updates, training might not converge; consider increasing the number of passes or iterations to improve accuracy\n",
            "WARNING:gensim.models.ldamodel:too few updates, training might not converge; consider increasing the number of passes or iterations to improve accuracy\n",
            "WARNING:gensim.models.ldamodel:too few updates, training might not converge; consider increasing the number of passes or iterations to improve accuracy\n",
            "WARNING:gensim.models.ldamodel:too few updates, training might not converge; consider increasing the number of passes or iterations to improve accuracy\n",
            "WARNING:gensim.models.ldamodel:too few updates, training might not converge; consider increasing the number of passes or iterations to improve accuracy\n",
            "WARNING:gensim.models.ldamodel:too few updates, training might not converge; consider increasing the number of passes or iterations to improve accuracy\n"
          ]
        }
      ],
      "source": [
        "model_list, coherence_values = compute_coherence_values(dictionary=dictionary, corpus=doc_term_matrix, texts=tokenized_reviews, start=2, limit=50, step=1)"
      ]
    },
    {
      "cell_type": "code",
      "execution_count": null,
      "metadata": {
        "colab": {
          "base_uri": "https://localhost:8080/",
          "height": 862
        },
        "id": "9r04XH3N2fho",
        "outputId": "2f7e27cf-84ae-4dde-d258-3ddd58281bb0"
      },
      "outputs": [
        {
          "output_type": "execute_result",
          "data": {
            "text/plain": [
              "PreparedData(topic_coordinates=              x         y  topics  cluster       Freq\n",
              "topic                                                \n",
              "0      0.002688 -0.001972       1        1  94.660109\n",
              "2     -0.000670  0.000496       2        1   1.334973\n",
              "3     -0.000677  0.000486       3        1   1.334973\n",
              "1     -0.000673  0.000491       4        1   1.334973\n",
              "4     -0.000668  0.000499       5        1   1.334972, topic_info=              Term      Freq     Total Category  logprob  loglift\n",
              "4             goal  1.000000  1.000000  Default  13.0000  13.0000\n",
              "0        achieving  1.000000  1.000000  Default  12.0000  12.0000\n",
              "1           action  1.000000  1.000000  Default  11.0000  11.0000\n",
              "2            clear  1.000000  1.000000  Default  10.0000  10.0000\n",
              "3           ensure  1.000000  1.000000  Default   9.0000   9.0000\n",
              "..             ...       ...       ...      ...      ...      ...\n",
              "9         progress  0.014377  1.015508   Topic5  -2.5649   0.0587\n",
              "10  responsibility  0.014377  1.015508   Topic5  -2.5649   0.0587\n",
              "11        specific  0.014377  1.015508   Topic5  -2.5649   0.0587\n",
              "12           track  0.014377  1.015508   Topic5  -2.5649   0.0587\n",
              "4             goal  0.014376  1.813903   Topic5  -2.5650  -0.5214\n",
              "\n",
              "[78 rows x 6 columns], token_table=      Topic      Freq            Term\n",
              "term                                 \n",
              "0         1  0.984729       achieving\n",
              "1         1  0.984729          action\n",
              "2         1  0.984729           clear\n",
              "3         1  0.984729          ensure\n",
              "4         1  1.102595            goal\n",
              "5         1  0.984729            help\n",
              "6         1  0.984729         monitor\n",
              "7         1  0.984729       objective\n",
              "8         1  0.984729            plan\n",
              "9         1  0.984729        progress\n",
              "10        1  0.984729  responsibility\n",
              "11        1  0.984729        specific\n",
              "12        1  0.984729           track, R=13, lambda_step=0.01, plot_opts={'xlab': 'PC1', 'ylab': 'PC2'}, topic_order=[1, 3, 4, 2, 5])"
            ],
            "text/html": [
              "\n",
              "<link rel=\"stylesheet\" type=\"text/css\" href=\"https://cdn.jsdelivr.net/gh/bmabey/pyLDAvis@3.4.0/pyLDAvis/js/ldavis.v1.0.0.css\">\n",
              "\n",
              "\n",
              "<div id=\"ldavis_el1561401777294718725113260950\" style=\"background-color:white;\"></div>\n",
              "<script type=\"text/javascript\">\n",
              "\n",
              "var ldavis_el1561401777294718725113260950_data = {\"mdsDat\": {\"x\": [0.002688176262253785, -0.0006698225571201782, -0.0006774537758191517, -0.0006733162837379116, -0.0006675836455765441], \"y\": [-0.00197242031632554, 0.0004961587554357273, 0.00048568729677738007, 0.0004914071129683742, 0.0004991671511440587], \"topics\": [1, 2, 3, 4, 5], \"cluster\": [1, 1, 1, 1, 1], \"Freq\": [94.6601089632576, 1.3349731317146498, 1.3349731317146498, 1.3349727591855978, 1.3349720141274937]}, \"tinfo\": {\"Term\": [\"goal\", \"achieving\", \"action\", \"clear\", \"ensure\", \"help\", \"monitor\", \"objective\", \"plan\", \"progress\", \"responsibility\", \"specific\", \"track\", \"goal\", \"achieving\", \"action\", \"clear\", \"ensure\", \"help\", \"monitor\", \"objective\", \"plan\", \"progress\", \"responsibility\", \"specific\", \"track\", \"achieving\", \"action\", \"clear\", \"ensure\", \"help\", \"monitor\", \"objective\", \"plan\", \"progress\", \"responsibility\", \"specific\", \"track\", \"goal\", \"achieving\", \"action\", \"clear\", \"ensure\", \"help\", \"monitor\", \"objective\", \"plan\", \"progress\", \"responsibility\", \"specific\", \"track\", \"goal\", \"achieving\", \"action\", \"clear\", \"ensure\", \"help\", \"monitor\", \"objective\", \"plan\", \"progress\", \"responsibility\", \"specific\", \"track\", \"goal\", \"achieving\", \"action\", \"clear\", \"ensure\", \"help\", \"monitor\", \"objective\", \"plan\", \"progress\", \"responsibility\", \"specific\", \"track\", \"goal\"], \"Freq\": [1.0, 1.0, 1.0, 1.0, 1.0, 1.0, 1.0, 1.0, 1.0, 1.0, 1.0, 1.0, 1.0, 1.7563966477384696, 0.9580014847676743, 0.9580014847676743, 0.9580014847676743, 0.9580014847676743, 0.9580014847676743, 0.9580014847676743, 0.9580014847676743, 0.9580014847676743, 0.9580014847676743, 0.9580014847676743, 0.9580014847676743, 0.9580014847676743, 0.014376648722154384, 0.014376648722154384, 0.014376648722154384, 0.014376648722154384, 0.014376648722154384, 0.014376648722154384, 0.014376648722154384, 0.014376648722154384, 0.014376648722154384, 0.014376648722154384, 0.014376648722154384, 0.014376648722154384, 0.01437646909153717, 0.014376648722154384, 0.014376648722154384, 0.014376648722154384, 0.014376648722154384, 0.014376648722154384, 0.014376648722154384, 0.014376648722154384, 0.014376648722154384, 0.014376648722154384, 0.014376648722154384, 0.014376648722154384, 0.014376648722154384, 0.01437646909153717, 0.01437664471029887, 0.01437664471029887, 0.01437664471029887, 0.01437664471029887, 0.01437664471029887, 0.01437664471029887, 0.01437664471029887, 0.01437664471029887, 0.01437664471029887, 0.01437664471029887, 0.01437664471029887, 0.01437664471029887, 0.014376465079731782, 0.01437663668658784, 0.01437663668658784, 0.01437663668658784, 0.01437663668658784, 0.01437663668658784, 0.01437663668658784, 0.01437663668658784, 0.01437663668658784, 0.01437663668658784, 0.01437663668658784, 0.01437663668658784, 0.01437663668658784, 0.014376457056121006], \"Total\": [1.0, 1.0, 1.0, 1.0, 1.0, 1.0, 1.0, 1.0, 1.0, 1.0, 1.0, 1.0, 1.0, 1.8139025080573967, 1.0155080636088698, 1.0155080636088698, 1.0155080636088698, 1.0155080636088698, 1.0155080636088698, 1.0155080636088698, 1.0155080636088698, 1.0155080636088698, 1.0155080636088698, 1.0155080636088698, 1.0155080636088698, 1.0155080636088698, 1.0155080636088698, 1.0155080636088698, 1.0155080636088698, 1.0155080636088698, 1.0155080636088698, 1.0155080636088698, 1.0155080636088698, 1.0155080636088698, 1.0155080636088698, 1.0155080636088698, 1.0155080636088698, 1.0155080636088698, 1.8139025080573967, 1.0155080636088698, 1.0155080636088698, 1.0155080636088698, 1.0155080636088698, 1.0155080636088698, 1.0155080636088698, 1.0155080636088698, 1.0155080636088698, 1.0155080636088698, 1.0155080636088698, 1.0155080636088698, 1.0155080636088698, 1.8139025080573967, 1.0155080636088698, 1.0155080636088698, 1.0155080636088698, 1.0155080636088698, 1.0155080636088698, 1.0155080636088698, 1.0155080636088698, 1.0155080636088698, 1.0155080636088698, 1.0155080636088698, 1.0155080636088698, 1.0155080636088698, 1.8139025080573967, 1.0155080636088698, 1.0155080636088698, 1.0155080636088698, 1.0155080636088698, 1.0155080636088698, 1.0155080636088698, 1.0155080636088698, 1.0155080636088698, 1.0155080636088698, 1.0155080636088698, 1.0155080636088698, 1.0155080636088698, 1.8139025080573967], \"Category\": [\"Default\", \"Default\", \"Default\", \"Default\", \"Default\", \"Default\", \"Default\", \"Default\", \"Default\", \"Default\", \"Default\", \"Default\", \"Default\", \"Topic1\", \"Topic1\", \"Topic1\", \"Topic1\", \"Topic1\", \"Topic1\", \"Topic1\", \"Topic1\", \"Topic1\", \"Topic1\", \"Topic1\", \"Topic1\", \"Topic1\", \"Topic2\", \"Topic2\", \"Topic2\", \"Topic2\", \"Topic2\", \"Topic2\", \"Topic2\", \"Topic2\", \"Topic2\", \"Topic2\", \"Topic2\", \"Topic2\", \"Topic2\", \"Topic3\", \"Topic3\", \"Topic3\", \"Topic3\", \"Topic3\", \"Topic3\", \"Topic3\", \"Topic3\", \"Topic3\", \"Topic3\", \"Topic3\", \"Topic3\", \"Topic3\", \"Topic4\", \"Topic4\", \"Topic4\", \"Topic4\", \"Topic4\", \"Topic4\", \"Topic4\", \"Topic4\", \"Topic4\", \"Topic4\", \"Topic4\", \"Topic4\", \"Topic4\", \"Topic5\", \"Topic5\", \"Topic5\", \"Topic5\", \"Topic5\", \"Topic5\", \"Topic5\", \"Topic5\", \"Topic5\", \"Topic5\", \"Topic5\", \"Topic5\", \"Topic5\"], \"logprob\": [13.0, 12.0, 11.0, 10.0, 9.0, 8.0, 7.0, 6.0, 5.0, 4.0, 3.0, 2.0, 1.0, -2.0209, -2.6271, -2.6271, -2.6271, -2.6271, -2.6271, -2.6271, -2.6271, -2.6271, -2.6271, -2.6271, -2.6271, -2.6271, -2.5649, -2.5649, -2.5649, -2.5649, -2.5649, -2.5649, -2.5649, -2.5649, -2.5649, -2.5649, -2.5649, -2.5649, -2.565, -2.5649, -2.5649, -2.5649, -2.5649, -2.5649, -2.5649, -2.5649, -2.5649, -2.5649, -2.5649, -2.5649, -2.5649, -2.565, -2.5649, -2.5649, -2.5649, -2.5649, -2.5649, -2.5649, -2.5649, -2.5649, -2.5649, -2.5649, -2.5649, -2.5649, -2.565, -2.5649, -2.5649, -2.5649, -2.5649, -2.5649, -2.5649, -2.5649, -2.5649, -2.5649, -2.5649, -2.5649, -2.5649, -2.565], \"loglift\": [13.0, 12.0, 11.0, 10.0, 9.0, 8.0, 7.0, 6.0, 5.0, 4.0, 3.0, 2.0, 1.0, 0.0227, -0.0034, -0.0034, -0.0034, -0.0034, -0.0034, -0.0034, -0.0034, -0.0034, -0.0034, -0.0034, -0.0034, -0.0034, 0.0587, 0.0587, 0.0587, 0.0587, 0.0587, 0.0587, 0.0587, 0.0587, 0.0587, 0.0587, 0.0587, 0.0587, -0.5214, 0.0587, 0.0587, 0.0587, 0.0587, 0.0587, 0.0587, 0.0587, 0.0587, 0.0587, 0.0587, 0.0587, 0.0587, -0.5214, 0.0587, 0.0587, 0.0587, 0.0587, 0.0587, 0.0587, 0.0587, 0.0587, 0.0587, 0.0587, 0.0587, 0.0587, -0.5214, 0.0587, 0.0587, 0.0587, 0.0587, 0.0587, 0.0587, 0.0587, 0.0587, 0.0587, 0.0587, 0.0587, 0.0587, -0.5214]}, \"token.table\": {\"Topic\": [1, 1, 1, 1, 1, 1, 1, 1, 1, 1, 1, 1, 1], \"Freq\": [0.9847287636951322, 0.9847287636951322, 0.9847287636951322, 0.9847287636951322, 1.1025950904836141, 0.9847287636951322, 0.9847287636951322, 0.9847287636951322, 0.9847287636951322, 0.9847287636951322, 0.9847287636951322, 0.9847287636951322, 0.9847287636951322], \"Term\": [\"achieving\", \"action\", \"clear\", \"ensure\", \"goal\", \"help\", \"monitor\", \"objective\", \"plan\", \"progress\", \"responsibility\", \"specific\", \"track\"]}, \"R\": 13, \"lambda.step\": 0.01, \"plot.opts\": {\"xlab\": \"PC1\", \"ylab\": \"PC2\"}, \"topic.order\": [1, 3, 4, 2, 5]};\n",
              "\n",
              "function LDAvis_load_lib(url, callback){\n",
              "  var s = document.createElement('script');\n",
              "  s.src = url;\n",
              "  s.async = true;\n",
              "  s.onreadystatechange = s.onload = callback;\n",
              "  s.onerror = function(){console.warn(\"failed to load library \" + url);};\n",
              "  document.getElementsByTagName(\"head\")[0].appendChild(s);\n",
              "}\n",
              "\n",
              "if(typeof(LDAvis) !== \"undefined\"){\n",
              "   // already loaded: just create the visualization\n",
              "   !function(LDAvis){\n",
              "       new LDAvis(\"#\" + \"ldavis_el1561401777294718725113260950\", ldavis_el1561401777294718725113260950_data);\n",
              "   }(LDAvis);\n",
              "}else if(typeof define === \"function\" && define.amd){\n",
              "   // require.js is available: use it to load d3/LDAvis\n",
              "   require.config({paths: {d3: \"https://d3js.org/d3.v5\"}});\n",
              "   require([\"d3\"], function(d3){\n",
              "      window.d3 = d3;\n",
              "      LDAvis_load_lib(\"https://cdn.jsdelivr.net/gh/bmabey/pyLDAvis@3.4.0/pyLDAvis/js/ldavis.v3.0.0.js\", function(){\n",
              "        new LDAvis(\"#\" + \"ldavis_el1561401777294718725113260950\", ldavis_el1561401777294718725113260950_data);\n",
              "      });\n",
              "    });\n",
              "}else{\n",
              "    // require.js not available: dynamically load d3 & LDAvis\n",
              "    LDAvis_load_lib(\"https://d3js.org/d3.v5.js\", function(){\n",
              "         LDAvis_load_lib(\"https://cdn.jsdelivr.net/gh/bmabey/pyLDAvis@3.4.0/pyLDAvis/js/ldavis.v3.0.0.js\", function(){\n",
              "                 new LDAvis(\"#\" + \"ldavis_el1561401777294718725113260950\", ldavis_el1561401777294718725113260950_data);\n",
              "            })\n",
              "         });\n",
              "}\n",
              "</script>"
            ]
          },
          "metadata": {},
          "execution_count": 26
        }
      ],
      "source": [
        "pyLDAvis.enable_notebook()\n",
        "vis = pyLDAvis.gensim.prepare(lda_model, doc_term_matrix, dictionary,mds='mmds')\n",
        "vis"
      ]
    },
    {
      "cell_type": "markdown",
      "source": [
        " identify specific goals we should aim to achieve. For example, you may want to increase representation of underrepresented groups, reduce bias in hiring, or create a more inclusive workplace culture.\n",
        "\n",
        "Plans or strategies to achieve desired outcomes should be put in place.\n",
        "\n"
      ],
      "metadata": {
        "id": "5OpSmMw3w49M"
      }
    },
    {
      "cell_type": "code",
      "execution_count": null,
      "metadata": {
        "id": "-ls3pl4534lC"
      },
      "outputs": [],
      "source": [
        "df['Cluster 4'] = df['Cluster 4'].astype(str)"
      ]
    },
    {
      "cell_type": "code",
      "execution_count": null,
      "metadata": {
        "colab": {
          "base_uri": "https://localhost:8080/"
        },
        "id": "UONuakZY34o6",
        "outputId": "ccbf45cb-77fe-4b82-bbfa-fa9a47dc86f0"
      },
      "outputs": [
        {
          "output_type": "stream",
          "name": "stderr",
          "text": [
            "WARNING:gensim.models.ldamodel:too few updates, training might not converge; consider increasing the number of passes or iterations to improve accuracy\n",
            "WARNING:gensim.models.ldamodel:too few updates, training might not converge; consider increasing the number of passes or iterations to improve accuracy\n"
          ]
        },
        {
          "output_type": "stream",
          "name": "stdout",
          "text": [
            "make,avoid,role,involves,show,others,interrupting,impact,conversations,attentive,respect,patient,empathy,additionally,impactful,perspective,enhance,listening,speakers,important\n",
            "['role', 'show', 'other', 'impact', 'conversation', 'attentive', 'respect', 'patient', 'empathy', 'impactful', 'perspective', 'enhance', 'speaker', 'important']\n",
            "\n",
            "Perplexity:  -3.340461643218994\n",
            "\n",
            "Coherence Score:  1.0\n"
          ]
        },
        {
          "output_type": "stream",
          "name": "stderr",
          "text": [
            "WARNING:gensim.models.ldamodel:too few updates, training might not converge; consider increasing the number of passes or iterations to improve accuracy\n",
            "WARNING:gensim.models.ldamodel:too few updates, training might not converge; consider increasing the number of passes or iterations to improve accuracy\n",
            "WARNING:gensim.models.ldamodel:too few updates, training might not converge; consider increasing the number of passes or iterations to improve accuracy\n",
            "WARNING:gensim.models.ldamodel:too few updates, training might not converge; consider increasing the number of passes or iterations to improve accuracy\n",
            "WARNING:gensim.models.ldamodel:too few updates, training might not converge; consider increasing the number of passes or iterations to improve accuracy\n",
            "WARNING:gensim.models.ldamodel:too few updates, training might not converge; consider increasing the number of passes or iterations to improve accuracy\n",
            "WARNING:gensim.models.ldamodel:too few updates, training might not converge; consider increasing the number of passes or iterations to improve accuracy\n",
            "WARNING:gensim.models.ldamodel:too few updates, training might not converge; consider increasing the number of passes or iterations to improve accuracy\n",
            "WARNING:gensim.models.ldamodel:too few updates, training might not converge; consider increasing the number of passes or iterations to improve accuracy\n",
            "WARNING:gensim.models.ldamodel:too few updates, training might not converge; consider increasing the number of passes or iterations to improve accuracy\n",
            "WARNING:gensim.models.ldamodel:too few updates, training might not converge; consider increasing the number of passes or iterations to improve accuracy\n",
            "WARNING:gensim.models.ldamodel:too few updates, training might not converge; consider increasing the number of passes or iterations to improve accuracy\n",
            "WARNING:gensim.models.ldamodel:too few updates, training might not converge; consider increasing the number of passes or iterations to improve accuracy\n",
            "WARNING:gensim.models.ldamodel:too few updates, training might not converge; consider increasing the number of passes or iterations to improve accuracy\n",
            "WARNING:gensim.models.ldamodel:too few updates, training might not converge; consider increasing the number of passes or iterations to improve accuracy\n",
            "WARNING:gensim.models.ldamodel:too few updates, training might not converge; consider increasing the number of passes or iterations to improve accuracy\n",
            "WARNING:gensim.models.ldamodel:too few updates, training might not converge; consider increasing the number of passes or iterations to improve accuracy\n",
            "WARNING:gensim.models.ldamodel:too few updates, training might not converge; consider increasing the number of passes or iterations to improve accuracy\n",
            "WARNING:gensim.models.ldamodel:too few updates, training might not converge; consider increasing the number of passes or iterations to improve accuracy\n",
            "WARNING:gensim.models.ldamodel:too few updates, training might not converge; consider increasing the number of passes or iterations to improve accuracy\n",
            "WARNING:gensim.models.ldamodel:too few updates, training might not converge; consider increasing the number of passes or iterations to improve accuracy\n",
            "WARNING:gensim.models.ldamodel:too few updates, training might not converge; consider increasing the number of passes or iterations to improve accuracy\n",
            "WARNING:gensim.models.ldamodel:too few updates, training might not converge; consider increasing the number of passes or iterations to improve accuracy\n",
            "WARNING:gensim.models.ldamodel:too few updates, training might not converge; consider increasing the number of passes or iterations to improve accuracy\n",
            "WARNING:gensim.models.ldamodel:too few updates, training might not converge; consider increasing the number of passes or iterations to improve accuracy\n",
            "WARNING:gensim.models.ldamodel:too few updates, training might not converge; consider increasing the number of passes or iterations to improve accuracy\n",
            "WARNING:gensim.models.ldamodel:too few updates, training might not converge; consider increasing the number of passes or iterations to improve accuracy\n",
            "WARNING:gensim.models.ldamodel:too few updates, training might not converge; consider increasing the number of passes or iterations to improve accuracy\n",
            "WARNING:gensim.models.ldamodel:too few updates, training might not converge; consider increasing the number of passes or iterations to improve accuracy\n",
            "WARNING:gensim.models.ldamodel:too few updates, training might not converge; consider increasing the number of passes or iterations to improve accuracy\n",
            "WARNING:gensim.models.ldamodel:too few updates, training might not converge; consider increasing the number of passes or iterations to improve accuracy\n",
            "WARNING:gensim.models.ldamodel:too few updates, training might not converge; consider increasing the number of passes or iterations to improve accuracy\n",
            "WARNING:gensim.models.ldamodel:too few updates, training might not converge; consider increasing the number of passes or iterations to improve accuracy\n",
            "WARNING:gensim.models.ldamodel:too few updates, training might not converge; consider increasing the number of passes or iterations to improve accuracy\n",
            "WARNING:gensim.models.ldamodel:too few updates, training might not converge; consider increasing the number of passes or iterations to improve accuracy\n",
            "WARNING:gensim.models.ldamodel:too few updates, training might not converge; consider increasing the number of passes or iterations to improve accuracy\n",
            "WARNING:gensim.models.ldamodel:too few updates, training might not converge; consider increasing the number of passes or iterations to improve accuracy\n",
            "WARNING:gensim.models.ldamodel:too few updates, training might not converge; consider increasing the number of passes or iterations to improve accuracy\n",
            "WARNING:gensim.models.ldamodel:too few updates, training might not converge; consider increasing the number of passes or iterations to improve accuracy\n",
            "WARNING:gensim.models.ldamodel:too few updates, training might not converge; consider increasing the number of passes or iterations to improve accuracy\n",
            "WARNING:gensim.models.ldamodel:too few updates, training might not converge; consider increasing the number of passes or iterations to improve accuracy\n",
            "WARNING:gensim.models.ldamodel:too few updates, training might not converge; consider increasing the number of passes or iterations to improve accuracy\n",
            "WARNING:gensim.models.ldamodel:too few updates, training might not converge; consider increasing the number of passes or iterations to improve accuracy\n",
            "WARNING:gensim.models.ldamodel:too few updates, training might not converge; consider increasing the number of passes or iterations to improve accuracy\n",
            "WARNING:gensim.models.ldamodel:too few updates, training might not converge; consider increasing the number of passes or iterations to improve accuracy\n",
            "WARNING:gensim.models.ldamodel:too few updates, training might not converge; consider increasing the number of passes or iterations to improve accuracy\n"
          ]
        }
      ],
      "source": [
        "text_list=df['Cluster 4'].tolist()\n",
        "print(text_list[0])\n",
        "tokenized_reviews = lemmatization(text_list)\n",
        "print(tokenized_reviews[0])\n",
        "\n",
        "dictionary = corpora.Dictionary(tokenized_reviews)\n",
        "doc_term_matrix = [dictionary.doc2bow(rev) for rev in tokenized_reviews]\n",
        "\n",
        "# Build LDA model\n",
        "lda_model = LDA(corpus=doc_term_matrix, id2word=dictionary, num_topics=5, random_state=100,\n",
        "                chunksize=1000, passes=50,iterations=100)\n",
        "print('\\nPerplexity: ', lda_model.log_perplexity(doc_term_matrix,total_docs=10000))  # a measure of how good the model is. lower the better.\n",
        "\n",
        "# Compute Coherence Score\n",
        "from gensim.models.coherencemodel import CoherenceModel\n",
        "coherence_model_lda = CoherenceModel(model=lda_model, texts=tokenized_reviews, dictionary=dictionary , coherence='c_v')\n",
        "coherence_lda = coherence_model_lda.get_coherence()\n",
        "print('\\nCoherence Score: ', coherence_lda)\n",
        "\n",
        "model_list, coherence_values = compute_coherence_values(dictionary=dictionary, corpus=doc_term_matrix, texts=tokenized_reviews, start=2, limit=50, step=1)"
      ]
    },
    {
      "cell_type": "code",
      "execution_count": null,
      "metadata": {
        "colab": {
          "base_uri": "https://localhost:8080/",
          "height": 862
        },
        "id": "_tXAEC0q34s-",
        "outputId": "2b4d64a4-35b1-45b6-df1c-558aedbc6b26"
      },
      "outputs": [
        {
          "output_type": "execute_result",
          "data": {
            "text/plain": [
              "PreparedData(topic_coordinates=                  x             y  topics  cluster       Freq\n",
              "topic                                                        \n",
              "0      5.938432e-18 -1.050517e-17       1        1  94.660066\n",
              "1      5.896138e-17 -5.727002e-17       2        1   1.334985\n",
              "2     -1.867676e-17  3.127639e-17       3        1   1.334983\n",
              "4     -1.993138e-17  3.018005e-17       4        1   1.334983\n",
              "3     -2.629168e-17  6.318745e-18       5        1   1.334983, topic_info=            Term     Freq  Total Category  logprob  loglift\n",
              "0      attentive  1.00000    1.0  Default  14.0000     14.0\n",
              "1   conversation  1.00000    1.0  Default  13.0000     13.0\n",
              "2        empathy  1.00000    1.0  Default  12.0000     12.0\n",
              "3        enhance  1.00000    1.0  Default  11.0000     11.0\n",
              "4         impact  1.00000    1.0  Default  10.0000     10.0\n",
              "..           ...      ...    ...      ...      ...      ...\n",
              "7          other  0.01335    1.0   Topic5  -2.6391     -0.0\n",
              "8        patient  0.01335    1.0   Topic5  -2.6391     -0.0\n",
              "9    perspective  0.01335    1.0   Topic5  -2.6391     -0.0\n",
              "10       respect  0.01335    1.0   Topic5  -2.6391     -0.0\n",
              "11          role  0.01335    1.0   Topic5  -2.6391     -0.0\n",
              "\n",
              "[84 rows x 6 columns], token_table=      Topic  Freq          Term\n",
              "term                           \n",
              "0         1   1.0     attentive\n",
              "1         1   1.0  conversation\n",
              "2         1   1.0       empathy\n",
              "3         1   1.0       enhance\n",
              "4         1   1.0        impact\n",
              "5         1   1.0     impactful\n",
              "6         1   1.0     important\n",
              "7         1   1.0         other\n",
              "8         1   1.0       patient\n",
              "9         1   1.0   perspective\n",
              "10        1   1.0       respect\n",
              "11        1   1.0          role\n",
              "12        1   1.0          show\n",
              "13        1   1.0       speaker, R=14, lambda_step=0.01, plot_opts={'xlab': 'PC1', 'ylab': 'PC2'}, topic_order=[1, 2, 3, 5, 4])"
            ],
            "text/html": [
              "\n",
              "<link rel=\"stylesheet\" type=\"text/css\" href=\"https://cdn.jsdelivr.net/gh/bmabey/pyLDAvis@3.4.0/pyLDAvis/js/ldavis.v1.0.0.css\">\n",
              "\n",
              "\n",
              "<div id=\"ldavis_el1561401777294709769539195520\" style=\"background-color:white;\"></div>\n",
              "<script type=\"text/javascript\">\n",
              "\n",
              "var ldavis_el1561401777294709769539195520_data = {\"mdsDat\": {\"x\": [5.938432069719803e-18, 5.896138414172674e-17, -1.8676755080405983e-17, -1.9931378668096402e-17, -2.6291682462944144e-17], \"y\": [-1.0505166388402783e-17, -5.727001854245674e-17, 3.1276385455322543e-17, 3.0180054601314346e-17, 6.318744874222636e-18], \"topics\": [1, 2, 3, 4, 5], \"cluster\": [1, 1, 1, 1, 1], \"Freq\": [94.66006553063029, 1.3349854101383458, 1.3349833612287256, 1.3349830818319592, 1.334982616170682]}, \"tinfo\": {\"Term\": [\"attentive\", \"conversation\", \"empathy\", \"enhance\", \"impact\", \"impactful\", \"important\", \"other\", \"patient\", \"perspective\", \"respect\", \"role\", \"show\", \"speaker\", \"speaker\", \"show\", \"attentive\", \"conversation\", \"empathy\", \"enhance\", \"impact\", \"impactful\", \"important\", \"other\", \"patient\", \"perspective\", \"respect\", \"role\", \"speaker\", \"attentive\", \"conversation\", \"empathy\", \"enhance\", \"impact\", \"impactful\", \"important\", \"other\", \"patient\", \"perspective\", \"respect\", \"role\", \"show\", \"show\", \"attentive\", \"conversation\", \"empathy\", \"enhance\", \"impact\", \"impactful\", \"important\", \"other\", \"patient\", \"perspective\", \"respect\", \"role\", \"speaker\", \"show\", \"attentive\", \"conversation\", \"empathy\", \"enhance\", \"impact\", \"impactful\", \"important\", \"other\", \"patient\", \"perspective\", \"respect\", \"role\", \"speaker\", \"speaker\", \"show\", \"attentive\", \"conversation\", \"empathy\", \"enhance\", \"impact\", \"impactful\", \"important\", \"other\", \"patient\", \"perspective\", \"respect\", \"role\"], \"Freq\": [1.0, 1.0, 1.0, 1.0, 1.0, 1.0, 1.0, 1.0, 1.0, 1.0, 1.0, 1.0, 1.0, 1.0, 0.9466008166373783, 0.9466008166373783, 0.9466008166373783, 0.9466008166373783, 0.9466008166373783, 0.9466008166373783, 0.9466008166373783, 0.9466008166373783, 0.9466008166373783, 0.9466008166373783, 0.9466008166373783, 0.9466008166373783, 0.9466008166373783, 0.9466008166373783, 0.013349853591629601, 0.013349853591629601, 0.013349853591629601, 0.013349853591629601, 0.013349853591629601, 0.013349853591629601, 0.013349853591629601, 0.013349853591629601, 0.013349853591629601, 0.013349853591629601, 0.013349853591629601, 0.013349853591629601, 0.013349853591629601, 0.013349852199131276, 0.013349831710037993, 0.013349831710037993, 0.013349831710037993, 0.013349831710037993, 0.013349831710037993, 0.013349831710037993, 0.013349831710037993, 0.013349831710037993, 0.013349831710037993, 0.013349831710037993, 0.013349831710037993, 0.013349831710037993, 0.013349831710037993, 0.013349830317541805, 0.013349828916070727, 0.013349828916070727, 0.013349828916070727, 0.013349828916070727, 0.013349828916070727, 0.013349828916070727, 0.013349828916070727, 0.013349828916070727, 0.013349828916070727, 0.013349828916070727, 0.013349828916070727, 0.013349828916070727, 0.013349828916070727, 0.013349827523574831, 0.013349825651954028, 0.013349825651954028, 0.013349825651954028, 0.013349825651954028, 0.013349825651954028, 0.013349825651954028, 0.013349825651954028, 0.013349825651954028, 0.013349825651954028, 0.013349825651954028, 0.013349825651954028, 0.013349825651954028, 0.013349825651954028, 0.013349825651954028], \"Total\": [1.0, 1.0, 1.0, 1.0, 1.0, 1.0, 1.0, 1.0, 1.0, 1.0, 1.0, 1.0, 1.0, 1.0, 1.0000001537220786, 1.0000001551145723, 1.0000001565070706, 1.0000001565070706, 1.0000001565070706, 1.0000001565070706, 1.0000001565070706, 1.0000001565070706, 1.0000001565070706, 1.0000001565070706, 1.0000001565070706, 1.0000001565070706, 1.0000001565070706, 1.0000001565070706, 1.0000001537220786, 1.0000001565070706, 1.0000001565070706, 1.0000001565070706, 1.0000001565070706, 1.0000001565070706, 1.0000001565070706, 1.0000001565070706, 1.0000001565070706, 1.0000001565070706, 1.0000001565070706, 1.0000001565070706, 1.0000001565070706, 1.0000001551145723, 1.0000001551145723, 1.0000001565070706, 1.0000001565070706, 1.0000001565070706, 1.0000001565070706, 1.0000001565070706, 1.0000001565070706, 1.0000001565070706, 1.0000001565070706, 1.0000001565070706, 1.0000001565070706, 1.0000001565070706, 1.0000001565070706, 1.0000001537220786, 1.0000001551145723, 1.0000001565070706, 1.0000001565070706, 1.0000001565070706, 1.0000001565070706, 1.0000001565070706, 1.0000001565070706, 1.0000001565070706, 1.0000001565070706, 1.0000001565070706, 1.0000001565070706, 1.0000001565070706, 1.0000001565070706, 1.0000001537220786, 1.0000001537220786, 1.0000001551145723, 1.0000001565070706, 1.0000001565070706, 1.0000001565070706, 1.0000001565070706, 1.0000001565070706, 1.0000001565070706, 1.0000001565070706, 1.0000001565070706, 1.0000001565070706, 1.0000001565070706, 1.0000001565070706, 1.0000001565070706], \"Category\": [\"Default\", \"Default\", \"Default\", \"Default\", \"Default\", \"Default\", \"Default\", \"Default\", \"Default\", \"Default\", \"Default\", \"Default\", \"Default\", \"Default\", \"Topic1\", \"Topic1\", \"Topic1\", \"Topic1\", \"Topic1\", \"Topic1\", \"Topic1\", \"Topic1\", \"Topic1\", \"Topic1\", \"Topic1\", \"Topic1\", \"Topic1\", \"Topic1\", \"Topic2\", \"Topic2\", \"Topic2\", \"Topic2\", \"Topic2\", \"Topic2\", \"Topic2\", \"Topic2\", \"Topic2\", \"Topic2\", \"Topic2\", \"Topic2\", \"Topic2\", \"Topic2\", \"Topic3\", \"Topic3\", \"Topic3\", \"Topic3\", \"Topic3\", \"Topic3\", \"Topic3\", \"Topic3\", \"Topic3\", \"Topic3\", \"Topic3\", \"Topic3\", \"Topic3\", \"Topic3\", \"Topic4\", \"Topic4\", \"Topic4\", \"Topic4\", \"Topic4\", \"Topic4\", \"Topic4\", \"Topic4\", \"Topic4\", \"Topic4\", \"Topic4\", \"Topic4\", \"Topic4\", \"Topic4\", \"Topic5\", \"Topic5\", \"Topic5\", \"Topic5\", \"Topic5\", \"Topic5\", \"Topic5\", \"Topic5\", \"Topic5\", \"Topic5\", \"Topic5\", \"Topic5\", \"Topic5\", \"Topic5\"], \"logprob\": [14.0, 13.0, 12.0, 11.0, 10.0, 9.0, 8.0, 7.0, 6.0, 5.0, 4.0, 3.0, 2.0, 1.0, -2.6391, -2.6391, -2.6391, -2.6391, -2.6391, -2.6391, -2.6391, -2.6391, -2.6391, -2.6391, -2.6391, -2.6391, -2.6391, -2.6391, -2.6391, -2.6391, -2.6391, -2.6391, -2.6391, -2.6391, -2.6391, -2.6391, -2.6391, -2.6391, -2.6391, -2.6391, -2.6391, -2.6391, -2.6391, -2.6391, -2.6391, -2.6391, -2.6391, -2.6391, -2.6391, -2.6391, -2.6391, -2.6391, -2.6391, -2.6391, -2.6391, -2.6391, -2.6391, -2.6391, -2.6391, -2.6391, -2.6391, -2.6391, -2.6391, -2.6391, -2.6391, -2.6391, -2.6391, -2.6391, -2.6391, -2.6391, -2.6391, -2.6391, -2.6391, -2.6391, -2.6391, -2.6391, -2.6391, -2.6391, -2.6391, -2.6391, -2.6391, -2.6391, -2.6391, -2.6391], \"loglift\": [14.0, 13.0, 12.0, 11.0, 10.0, 9.0, 8.0, 7.0, 6.0, 5.0, 4.0, 3.0, 2.0, 1.0, 0.0, 0.0, 0.0, 0.0, 0.0, 0.0, 0.0, 0.0, 0.0, 0.0, 0.0, 0.0, 0.0, 0.0, -0.0, -0.0, -0.0, -0.0, -0.0, -0.0, -0.0, -0.0, -0.0, -0.0, -0.0, -0.0, -0.0, -0.0, -0.0, -0.0, -0.0, -0.0, -0.0, -0.0, -0.0, -0.0, -0.0, -0.0, -0.0, -0.0, -0.0, -0.0, -0.0, -0.0, -0.0, -0.0, -0.0, -0.0, -0.0, -0.0, -0.0, -0.0, -0.0, -0.0, -0.0, -0.0, -0.0, -0.0, -0.0, -0.0, -0.0, -0.0, -0.0, -0.0, -0.0, -0.0, -0.0, -0.0, -0.0, -0.0]}, \"token.table\": {\"Topic\": [1, 1, 1, 1, 1, 1, 1, 1, 1, 1, 1, 1, 1, 1], \"Freq\": [0.9999998434929539, 0.9999998434929539, 0.9999998434929539, 0.9999998434929539, 0.9999998434929539, 0.9999998434929539, 0.9999998434929539, 0.9999998434929539, 0.9999998434929539, 0.9999998434929539, 0.9999998434929539, 0.9999998434929539, 0.9999998448854518, 0.999999846277945], \"Term\": [\"attentive\", \"conversation\", \"empathy\", \"enhance\", \"impact\", \"impactful\", \"important\", \"other\", \"patient\", \"perspective\", \"respect\", \"role\", \"show\", \"speaker\"]}, \"R\": 14, \"lambda.step\": 0.01, \"plot.opts\": {\"xlab\": \"PC1\", \"ylab\": \"PC2\"}, \"topic.order\": [1, 2, 3, 5, 4]};\n",
              "\n",
              "function LDAvis_load_lib(url, callback){\n",
              "  var s = document.createElement('script');\n",
              "  s.src = url;\n",
              "  s.async = true;\n",
              "  s.onreadystatechange = s.onload = callback;\n",
              "  s.onerror = function(){console.warn(\"failed to load library \" + url);};\n",
              "  document.getElementsByTagName(\"head\")[0].appendChild(s);\n",
              "}\n",
              "\n",
              "if(typeof(LDAvis) !== \"undefined\"){\n",
              "   // already loaded: just create the visualization\n",
              "   !function(LDAvis){\n",
              "       new LDAvis(\"#\" + \"ldavis_el1561401777294709769539195520\", ldavis_el1561401777294709769539195520_data);\n",
              "   }(LDAvis);\n",
              "}else if(typeof define === \"function\" && define.amd){\n",
              "   // require.js is available: use it to load d3/LDAvis\n",
              "   require.config({paths: {d3: \"https://d3js.org/d3.v5\"}});\n",
              "   require([\"d3\"], function(d3){\n",
              "      window.d3 = d3;\n",
              "      LDAvis_load_lib(\"https://cdn.jsdelivr.net/gh/bmabey/pyLDAvis@3.4.0/pyLDAvis/js/ldavis.v3.0.0.js\", function(){\n",
              "        new LDAvis(\"#\" + \"ldavis_el1561401777294709769539195520\", ldavis_el1561401777294709769539195520_data);\n",
              "      });\n",
              "    });\n",
              "}else{\n",
              "    // require.js not available: dynamically load d3 & LDAvis\n",
              "    LDAvis_load_lib(\"https://d3js.org/d3.v5.js\", function(){\n",
              "         LDAvis_load_lib(\"https://cdn.jsdelivr.net/gh/bmabey/pyLDAvis@3.4.0/pyLDAvis/js/ldavis.v3.0.0.js\", function(){\n",
              "                 new LDAvis(\"#\" + \"ldavis_el1561401777294709769539195520\", ldavis_el1561401777294709769539195520_data);\n",
              "            })\n",
              "         });\n",
              "}\n",
              "</script>"
            ]
          },
          "metadata": {},
          "execution_count": 29
        }
      ],
      "source": [
        "pyLDAvis.enable_notebook()\n",
        "vis = pyLDAvis.gensim.prepare(lda_model, doc_term_matrix, dictionary,mds='mmds')\n",
        "vis"
      ]
    },
    {
      "cell_type": "markdown",
      "metadata": {
        "id": "HtUuM9qfvUFT"
      },
      "source": [
        "The speaker/representative has a key role in creating an inclusive and respectful workplace culture, and can enhance their impact by being mindful of these qualities and striving to have impactful conversations."
      ]
    }
  ],
  "metadata": {
    "colab": {
      "provenance": [],
      "include_colab_link": true
    },
    "kernelspec": {
      "display_name": "Python 3",
      "name": "python3"
    },
    "language_info": {
      "name": "python"
    }
  },
  "nbformat": 4,
  "nbformat_minor": 0
}